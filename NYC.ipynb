{
 "cells": [
  {
   "cell_type": "code",
   "execution_count": 107,
   "id": "df0171e1",
   "metadata": {},
   "outputs": [],
   "source": [
    "import numpy as np\n",
    "import pandas as pd\n",
    "import seaborn as sns\n",
    "import matplotlib.pyplot as plt\n",
    "pd.set_option('display.max_columns', None)"
   ]
  },
  {
   "cell_type": "markdown",
   "id": "f9ab7534",
   "metadata": {},
   "source": [
    "## **NYC TLC Record** ##\n",
    "**NYC TLC** merupakan komisi taksi dan limusin kota NewYork. TLC juga mengatur dan memberi lisensi taksi medali dan industri kendaraan sewaan , termasuk perusahaan berbasis aplikasi seperti Uber dan Lyft. Lembaga ini telah merekam data taxi selama 30 hari yang kemudian dapat kita analisis data ini untuk bisa menarik informasi darinya."
   ]
  },
  {
   "cell_type": "code",
   "execution_count": 108,
   "id": "0efaad99",
   "metadata": {},
   "outputs": [
    {
     "name": "stderr",
     "output_type": "stream",
     "text": [
      "C:\\Users\\hp\\AppData\\Local\\Temp\\ipykernel_13820\\1481623928.py:1: DtypeWarning: Columns (3) have mixed types. Specify dtype option on import or set low_memory=False.\n",
      "  NewYork = pd.read_csv('NYC TLC Trip Record.csv')\n"
     ]
    }
   ],
   "source": [
    "NewYork = pd.read_csv('NYC TLC Trip Record.csv')"
   ]
  },
  {
   "cell_type": "code",
   "execution_count": 109,
   "id": "d1d4164e",
   "metadata": {},
   "outputs": [
    {
     "data": {
      "text/html": [
       "<div>\n",
       "<style scoped>\n",
       "    .dataframe tbody tr th:only-of-type {\n",
       "        vertical-align: middle;\n",
       "    }\n",
       "\n",
       "    .dataframe tbody tr th {\n",
       "        vertical-align: top;\n",
       "    }\n",
       "\n",
       "    .dataframe thead th {\n",
       "        text-align: right;\n",
       "    }\n",
       "</style>\n",
       "<table border=\"1\" class=\"dataframe\">\n",
       "  <thead>\n",
       "    <tr style=\"text-align: right;\">\n",
       "      <th></th>\n",
       "      <th>VendorID</th>\n",
       "      <th>lpep_pickup_datetime</th>\n",
       "      <th>lpep_dropoff_datetime</th>\n",
       "      <th>store_and_fwd_flag</th>\n",
       "      <th>RatecodeID</th>\n",
       "      <th>PULocationID</th>\n",
       "      <th>DOLocationID</th>\n",
       "      <th>passenger_count</th>\n",
       "      <th>trip_distance</th>\n",
       "      <th>fare_amount</th>\n",
       "      <th>extra</th>\n",
       "      <th>mta_tax</th>\n",
       "      <th>tip_amount</th>\n",
       "      <th>tolls_amount</th>\n",
       "      <th>ehail_fee</th>\n",
       "      <th>improvement_surcharge</th>\n",
       "      <th>total_amount</th>\n",
       "      <th>payment_type</th>\n",
       "      <th>trip_type</th>\n",
       "      <th>congestion_surcharge</th>\n",
       "    </tr>\n",
       "  </thead>\n",
       "  <tbody>\n",
       "    <tr>\n",
       "      <th>0</th>\n",
       "      <td>2</td>\n",
       "      <td>2023-01-01 00:26:10</td>\n",
       "      <td>2023-01-01 00:37:11</td>\n",
       "      <td>N</td>\n",
       "      <td>1.0</td>\n",
       "      <td>166</td>\n",
       "      <td>143</td>\n",
       "      <td>1.0</td>\n",
       "      <td>2.58</td>\n",
       "      <td>14.9</td>\n",
       "      <td>1.0</td>\n",
       "      <td>0.5</td>\n",
       "      <td>4.03</td>\n",
       "      <td>0.0</td>\n",
       "      <td>NaN</td>\n",
       "      <td>1.0</td>\n",
       "      <td>24.18</td>\n",
       "      <td>1.0</td>\n",
       "      <td>1.0</td>\n",
       "      <td>2.75</td>\n",
       "    </tr>\n",
       "    <tr>\n",
       "      <th>1</th>\n",
       "      <td>2</td>\n",
       "      <td>2023-01-01 00:51:03</td>\n",
       "      <td>2023-01-01 00:57:49</td>\n",
       "      <td>N</td>\n",
       "      <td>1.0</td>\n",
       "      <td>24</td>\n",
       "      <td>43</td>\n",
       "      <td>1.0</td>\n",
       "      <td>1.81</td>\n",
       "      <td>10.7</td>\n",
       "      <td>1.0</td>\n",
       "      <td>0.5</td>\n",
       "      <td>2.64</td>\n",
       "      <td>0.0</td>\n",
       "      <td>NaN</td>\n",
       "      <td>1.0</td>\n",
       "      <td>15.84</td>\n",
       "      <td>1.0</td>\n",
       "      <td>1.0</td>\n",
       "      <td>0.00</td>\n",
       "    </tr>\n",
       "    <tr>\n",
       "      <th>2</th>\n",
       "      <td>2</td>\n",
       "      <td>2023-01-01 00:35:12</td>\n",
       "      <td>2023-01-01 00:41:32</td>\n",
       "      <td>N</td>\n",
       "      <td>1.0</td>\n",
       "      <td>223</td>\n",
       "      <td>179</td>\n",
       "      <td>1.0</td>\n",
       "      <td>0.00</td>\n",
       "      <td>7.2</td>\n",
       "      <td>1.0</td>\n",
       "      <td>0.5</td>\n",
       "      <td>1.94</td>\n",
       "      <td>0.0</td>\n",
       "      <td>NaN</td>\n",
       "      <td>1.0</td>\n",
       "      <td>11.64</td>\n",
       "      <td>1.0</td>\n",
       "      <td>1.0</td>\n",
       "      <td>0.00</td>\n",
       "    </tr>\n",
       "    <tr>\n",
       "      <th>3</th>\n",
       "      <td>1</td>\n",
       "      <td>2023-01-01 00:13:14</td>\n",
       "      <td>2023-01-01 00:19:03</td>\n",
       "      <td>N</td>\n",
       "      <td>1.0</td>\n",
       "      <td>41</td>\n",
       "      <td>238</td>\n",
       "      <td>1.0</td>\n",
       "      <td>1.30</td>\n",
       "      <td>6.5</td>\n",
       "      <td>0.5</td>\n",
       "      <td>1.5</td>\n",
       "      <td>1.70</td>\n",
       "      <td>0.0</td>\n",
       "      <td>NaN</td>\n",
       "      <td>1.0</td>\n",
       "      <td>10.20</td>\n",
       "      <td>1.0</td>\n",
       "      <td>1.0</td>\n",
       "      <td>0.00</td>\n",
       "    </tr>\n",
       "    <tr>\n",
       "      <th>4</th>\n",
       "      <td>1</td>\n",
       "      <td>2023-01-01 00:33:04</td>\n",
       "      <td>2023-01-01 00:39:02</td>\n",
       "      <td>N</td>\n",
       "      <td>1.0</td>\n",
       "      <td>41</td>\n",
       "      <td>74</td>\n",
       "      <td>1.0</td>\n",
       "      <td>1.10</td>\n",
       "      <td>6.0</td>\n",
       "      <td>0.5</td>\n",
       "      <td>1.5</td>\n",
       "      <td>0.00</td>\n",
       "      <td>0.0</td>\n",
       "      <td>NaN</td>\n",
       "      <td>1.0</td>\n",
       "      <td>8.00</td>\n",
       "      <td>1.0</td>\n",
       "      <td>1.0</td>\n",
       "      <td>0.00</td>\n",
       "    </tr>\n",
       "  </tbody>\n",
       "</table>\n",
       "</div>"
      ],
      "text/plain": [
       "   VendorID lpep_pickup_datetime lpep_dropoff_datetime store_and_fwd_flag  \\\n",
       "0         2  2023-01-01 00:26:10   2023-01-01 00:37:11                  N   \n",
       "1         2  2023-01-01 00:51:03   2023-01-01 00:57:49                  N   \n",
       "2         2  2023-01-01 00:35:12   2023-01-01 00:41:32                  N   \n",
       "3         1  2023-01-01 00:13:14   2023-01-01 00:19:03                  N   \n",
       "4         1  2023-01-01 00:33:04   2023-01-01 00:39:02                  N   \n",
       "\n",
       "   RatecodeID  PULocationID  DOLocationID  passenger_count  trip_distance  \\\n",
       "0         1.0           166           143              1.0           2.58   \n",
       "1         1.0            24            43              1.0           1.81   \n",
       "2         1.0           223           179              1.0           0.00   \n",
       "3         1.0            41           238              1.0           1.30   \n",
       "4         1.0            41            74              1.0           1.10   \n",
       "\n",
       "   fare_amount  extra  mta_tax  tip_amount  tolls_amount  ehail_fee  \\\n",
       "0         14.9    1.0      0.5        4.03           0.0        NaN   \n",
       "1         10.7    1.0      0.5        2.64           0.0        NaN   \n",
       "2          7.2    1.0      0.5        1.94           0.0        NaN   \n",
       "3          6.5    0.5      1.5        1.70           0.0        NaN   \n",
       "4          6.0    0.5      1.5        0.00           0.0        NaN   \n",
       "\n",
       "   improvement_surcharge  total_amount  payment_type  trip_type  \\\n",
       "0                    1.0         24.18           1.0        1.0   \n",
       "1                    1.0         15.84           1.0        1.0   \n",
       "2                    1.0         11.64           1.0        1.0   \n",
       "3                    1.0         10.20           1.0        1.0   \n",
       "4                    1.0          8.00           1.0        1.0   \n",
       "\n",
       "   congestion_surcharge  \n",
       "0                  2.75  \n",
       "1                  0.00  \n",
       "2                  0.00  \n",
       "3                  0.00  \n",
       "4                  0.00  "
      ]
     },
     "execution_count": 109,
     "metadata": {},
     "output_type": "execute_result"
    }
   ],
   "source": [
    "NewYork.head(5)"
   ]
  },
  {
   "cell_type": "code",
   "execution_count": 110,
   "id": "f05c2d20",
   "metadata": {},
   "outputs": [
    {
     "data": {
      "text/html": [
       "<div>\n",
       "<style scoped>\n",
       "    .dataframe tbody tr th:only-of-type {\n",
       "        vertical-align: middle;\n",
       "    }\n",
       "\n",
       "    .dataframe tbody tr th {\n",
       "        vertical-align: top;\n",
       "    }\n",
       "\n",
       "    .dataframe thead th {\n",
       "        text-align: right;\n",
       "    }\n",
       "</style>\n",
       "<table border=\"1\" class=\"dataframe\">\n",
       "  <thead>\n",
       "    <tr style=\"text-align: right;\">\n",
       "      <th></th>\n",
       "      <th>VendorID</th>\n",
       "      <th>lpep_pickup_datetime</th>\n",
       "      <th>lpep_dropoff_datetime</th>\n",
       "      <th>store_and_fwd_flag</th>\n",
       "      <th>RatecodeID</th>\n",
       "      <th>PULocationID</th>\n",
       "      <th>DOLocationID</th>\n",
       "      <th>passenger_count</th>\n",
       "      <th>trip_distance</th>\n",
       "      <th>fare_amount</th>\n",
       "      <th>extra</th>\n",
       "      <th>mta_tax</th>\n",
       "      <th>tip_amount</th>\n",
       "      <th>tolls_amount</th>\n",
       "      <th>ehail_fee</th>\n",
       "      <th>improvement_surcharge</th>\n",
       "      <th>total_amount</th>\n",
       "      <th>payment_type</th>\n",
       "      <th>trip_type</th>\n",
       "      <th>congestion_surcharge</th>\n",
       "    </tr>\n",
       "  </thead>\n",
       "  <tbody>\n",
       "    <tr>\n",
       "      <th>68206</th>\n",
       "      <td>2</td>\n",
       "      <td>2023-01-31 22:29:00</td>\n",
       "      <td>2023-01-31 22:42:00</td>\n",
       "      <td>NaN</td>\n",
       "      <td>NaN</td>\n",
       "      <td>49</td>\n",
       "      <td>62</td>\n",
       "      <td>NaN</td>\n",
       "      <td>4070.82</td>\n",
       "      <td>15.70</td>\n",
       "      <td>0.0</td>\n",
       "      <td>0.0</td>\n",
       "      <td>0.00</td>\n",
       "      <td>0.0</td>\n",
       "      <td>NaN</td>\n",
       "      <td>1.0</td>\n",
       "      <td>16.70</td>\n",
       "      <td>NaN</td>\n",
       "      <td>NaN</td>\n",
       "      <td>NaN</td>\n",
       "    </tr>\n",
       "    <tr>\n",
       "      <th>68207</th>\n",
       "      <td>2</td>\n",
       "      <td>2023-01-31 22:40:00</td>\n",
       "      <td>2023-01-31 22:48:00</td>\n",
       "      <td>NaN</td>\n",
       "      <td>NaN</td>\n",
       "      <td>10</td>\n",
       "      <td>205</td>\n",
       "      <td>NaN</td>\n",
       "      <td>2.14</td>\n",
       "      <td>4.41</td>\n",
       "      <td>0.0</td>\n",
       "      <td>0.0</td>\n",
       "      <td>0.00</td>\n",
       "      <td>0.0</td>\n",
       "      <td>NaN</td>\n",
       "      <td>1.0</td>\n",
       "      <td>5.41</td>\n",
       "      <td>NaN</td>\n",
       "      <td>NaN</td>\n",
       "      <td>NaN</td>\n",
       "    </tr>\n",
       "    <tr>\n",
       "      <th>68208</th>\n",
       "      <td>2</td>\n",
       "      <td>2023-01-31 23:46:00</td>\n",
       "      <td>2023-02-01 00:02:00</td>\n",
       "      <td>NaN</td>\n",
       "      <td>NaN</td>\n",
       "      <td>66</td>\n",
       "      <td>37</td>\n",
       "      <td>NaN</td>\n",
       "      <td>3.44</td>\n",
       "      <td>16.53</td>\n",
       "      <td>0.0</td>\n",
       "      <td>0.0</td>\n",
       "      <td>3.51</td>\n",
       "      <td>0.0</td>\n",
       "      <td>NaN</td>\n",
       "      <td>1.0</td>\n",
       "      <td>21.04</td>\n",
       "      <td>NaN</td>\n",
       "      <td>NaN</td>\n",
       "      <td>NaN</td>\n",
       "    </tr>\n",
       "    <tr>\n",
       "      <th>68209</th>\n",
       "      <td>2</td>\n",
       "      <td>2023-01-31 23:01:00</td>\n",
       "      <td>2023-01-31 23:19:00</td>\n",
       "      <td>NaN</td>\n",
       "      <td>NaN</td>\n",
       "      <td>225</td>\n",
       "      <td>189</td>\n",
       "      <td>NaN</td>\n",
       "      <td>3.03</td>\n",
       "      <td>14.98</td>\n",
       "      <td>0.0</td>\n",
       "      <td>0.0</td>\n",
       "      <td>3.20</td>\n",
       "      <td>0.0</td>\n",
       "      <td>NaN</td>\n",
       "      <td>1.0</td>\n",
       "      <td>19.18</td>\n",
       "      <td>NaN</td>\n",
       "      <td>NaN</td>\n",
       "      <td>NaN</td>\n",
       "    </tr>\n",
       "    <tr>\n",
       "      <th>68210</th>\n",
       "      <td>2</td>\n",
       "      <td>2023-01-31 23:51:00</td>\n",
       "      <td>2023-02-01 00:07:00</td>\n",
       "      <td>NaN</td>\n",
       "      <td>NaN</td>\n",
       "      <td>256</td>\n",
       "      <td>140</td>\n",
       "      <td>NaN</td>\n",
       "      <td>5.82</td>\n",
       "      <td>23.65</td>\n",
       "      <td>0.0</td>\n",
       "      <td>0.0</td>\n",
       "      <td>2.00</td>\n",
       "      <td>0.0</td>\n",
       "      <td>NaN</td>\n",
       "      <td>1.0</td>\n",
       "      <td>29.40</td>\n",
       "      <td>NaN</td>\n",
       "      <td>NaN</td>\n",
       "      <td>NaN</td>\n",
       "    </tr>\n",
       "  </tbody>\n",
       "</table>\n",
       "</div>"
      ],
      "text/plain": [
       "       VendorID lpep_pickup_datetime lpep_dropoff_datetime store_and_fwd_flag  \\\n",
       "68206         2  2023-01-31 22:29:00   2023-01-31 22:42:00                NaN   \n",
       "68207         2  2023-01-31 22:40:00   2023-01-31 22:48:00                NaN   \n",
       "68208         2  2023-01-31 23:46:00   2023-02-01 00:02:00                NaN   \n",
       "68209         2  2023-01-31 23:01:00   2023-01-31 23:19:00                NaN   \n",
       "68210         2  2023-01-31 23:51:00   2023-02-01 00:07:00                NaN   \n",
       "\n",
       "       RatecodeID  PULocationID  DOLocationID  passenger_count  trip_distance  \\\n",
       "68206         NaN            49            62              NaN        4070.82   \n",
       "68207         NaN            10           205              NaN           2.14   \n",
       "68208         NaN            66            37              NaN           3.44   \n",
       "68209         NaN           225           189              NaN           3.03   \n",
       "68210         NaN           256           140              NaN           5.82   \n",
       "\n",
       "       fare_amount  extra  mta_tax  tip_amount  tolls_amount  ehail_fee  \\\n",
       "68206        15.70    0.0      0.0        0.00           0.0        NaN   \n",
       "68207         4.41    0.0      0.0        0.00           0.0        NaN   \n",
       "68208        16.53    0.0      0.0        3.51           0.0        NaN   \n",
       "68209        14.98    0.0      0.0        3.20           0.0        NaN   \n",
       "68210        23.65    0.0      0.0        2.00           0.0        NaN   \n",
       "\n",
       "       improvement_surcharge  total_amount  payment_type  trip_type  \\\n",
       "68206                    1.0         16.70           NaN        NaN   \n",
       "68207                    1.0          5.41           NaN        NaN   \n",
       "68208                    1.0         21.04           NaN        NaN   \n",
       "68209                    1.0         19.18           NaN        NaN   \n",
       "68210                    1.0         29.40           NaN        NaN   \n",
       "\n",
       "       congestion_surcharge  \n",
       "68206                   NaN  \n",
       "68207                   NaN  \n",
       "68208                   NaN  \n",
       "68209                   NaN  \n",
       "68210                   NaN  "
      ]
     },
     "execution_count": 110,
     "metadata": {},
     "output_type": "execute_result"
    }
   ],
   "source": [
    "NewYork.tail(5)"
   ]
  },
  {
   "cell_type": "code",
   "execution_count": 127,
   "id": "3a1d777c",
   "metadata": {},
   "outputs": [
    {
     "name": "stdout",
     "output_type": "stream",
     "text": [
      "<class 'pandas.core.frame.DataFrame'>\n",
      "RangeIndex: 68211 entries, 0 to 68210\n",
      "Data columns (total 19 columns):\n",
      " #   Column                 Non-Null Count  Dtype         \n",
      "---  ------                 --------------  -----         \n",
      " 0   VendorID               68211 non-null  int64         \n",
      " 1   lpep_pickup_datetime   68211 non-null  datetime64[ns]\n",
      " 2   lpep_dropoff_datetime  68211 non-null  datetime64[ns]\n",
      " 3   store_and_fwd_flag     68211 non-null  object        \n",
      " 4   RatecodeID             68211 non-null  int32         \n",
      " 5   PULocationID           68211 non-null  int64         \n",
      " 6   DOLocationID           68211 non-null  int64         \n",
      " 7   passenger_count        68211 non-null  int32         \n",
      " 8   trip_distance          68211 non-null  float64       \n",
      " 9   fare_amount            68211 non-null  float64       \n",
      " 10  extra                  68211 non-null  float64       \n",
      " 11  mta_tax                68211 non-null  float64       \n",
      " 12  tip_amount             68211 non-null  float64       \n",
      " 13  tolls_amount           68211 non-null  float64       \n",
      " 14  improvement_surcharge  68211 non-null  float64       \n",
      " 15  total_amount           68211 non-null  float64       \n",
      " 16  payment_type           68211 non-null  category      \n",
      " 17  trip_type              68211 non-null  category      \n",
      " 18  congestion_surcharge   68211 non-null  float64       \n",
      "dtypes: category(2), datetime64[ns](2), float64(9), int32(2), int64(3), object(1)\n",
      "memory usage: 8.5+ MB\n"
     ]
    }
   ],
   "source": [
    "NewYork.info()"
   ]
  },
  {
   "cell_type": "code",
   "execution_count": 112,
   "id": "33e76c6b",
   "metadata": {},
   "outputs": [
    {
     "data": {
      "text/plain": [
       "(68211, 20)"
      ]
     },
     "execution_count": 112,
     "metadata": {},
     "output_type": "execute_result"
    }
   ],
   "source": [
    "NewYork.shape"
   ]
  },
  {
   "cell_type": "markdown",
   "id": "20e74b0f",
   "metadata": {},
   "source": [
    "## **Handle NaN** ##\n",
    "**Kebanyakan** dari data kosong yang ada *diisi dengan* nilai **mediannya**, tidak menggunakan mean **karena** data yang ada **belum tentu terdistribusi normal.**\n",
    "**Juga** karena **proporsi** dari *nilai kosong* tersebut tergolong kecil yakni **dibawah 30%** dari total keseluruhan data.\n",
    "Kalaupun terdapat data yang bernilai kosong dan proporsinya di atas 30% maka akan saya bagi menjadi beberapa bagian, salah satunya untuk dianalisis (maka NaN nya akan dihapus), sementara yang lainnya dibiarkan memiliki nilai kosong (selagi nilai kosong itu tidak memengaruhi nilai data yang akan dianalisis).\n",
    "Namun untungnya pada data kali ini tak ada kasus seperti yang dijelaskan diatas, Jikalaupun ada nilai NaN yang lebih besar dari 30% maka nilai NaN-nya itu memiliki proporsi 100% alias seluruh kolomnya bernilai kosong (yang memungkinkan saya untuk langsung menghapus kolomnya sekaligus)"
   ]
  },
  {
   "cell_type": "code",
   "execution_count": 113,
   "id": "d23b1d27",
   "metadata": {},
   "outputs": [
    {
     "data": {
      "text/plain": [
       "VendorID                   0.000000\n",
       "lpep_pickup_datetime       0.000000\n",
       "lpep_dropoff_datetime      0.000000\n",
       "store_and_fwd_flag         6.339154\n",
       "RatecodeID                 6.339154\n",
       "PULocationID               0.000000\n",
       "DOLocationID               0.000000\n",
       "passenger_count            6.339154\n",
       "trip_distance              0.000000\n",
       "fare_amount                0.000000\n",
       "extra                      0.000000\n",
       "mta_tax                    0.000000\n",
       "tip_amount                 0.000000\n",
       "tolls_amount               0.000000\n",
       "ehail_fee                100.000000\n",
       "improvement_surcharge      0.000000\n",
       "total_amount               0.000000\n",
       "payment_type               6.339154\n",
       "trip_type                  6.353814\n",
       "congestion_surcharge       6.339154\n",
       "dtype: float64"
      ]
     },
     "execution_count": 113,
     "metadata": {},
     "output_type": "execute_result"
    }
   ],
   "source": [
    "#Periksa nilai kosong yang masih ada\n",
    "NewYork.isnull().sum()*100/len(NewYork)"
   ]
  },
  {
   "cell_type": "code",
   "execution_count": 114,
   "id": "dc2350c5",
   "metadata": {},
   "outputs": [],
   "source": [
    "NewYork.drop('ehail_fee', axis = 1, inplace = True)"
   ]
  },
  {
   "cell_type": "code",
   "execution_count": 115,
   "id": "fef6ac38",
   "metadata": {},
   "outputs": [],
   "source": [
    "#mengisi nilai kosong pada store and fwd flag dengan modus karena store and fwd merupakan kategori\n",
    "modus = NewYork['store_and_fwd_flag'].mode()[0]\n",
    "NewYork['store_and_fwd_flag'].fillna(modus, inplace = True)"
   ]
  },
  {
   "cell_type": "code",
   "execution_count": 116,
   "id": "fdc959df",
   "metadata": {},
   "outputs": [
    {
     "data": {
      "text/plain": [
       "array([ 1.,  5.,  4.,  3.,  2., 99., nan])"
      ]
     },
     "execution_count": 116,
     "metadata": {},
     "output_type": "execute_result"
    }
   ],
   "source": [
    "# terdapat nilai yang salah yakni 99 sementara pada keterangannya RatecodeID ini merupakan \n",
    "# kategori dengan rentang nilai nomor dari 1 sampai 6\n",
    "NewYork['RatecodeID'].unique()"
   ]
  },
  {
   "cell_type": "code",
   "execution_count": 117,
   "id": "8b11aa43",
   "metadata": {},
   "outputs": [],
   "source": [
    "# membuat fungsi untuk mengubah nilai yang salah\n",
    "def ubah_nilai_yang_salah(data):\n",
    "    if data>5 :\n",
    "        return 6\n",
    "    else:\n",
    "        return data"
   ]
  },
  {
   "cell_type": "code",
   "execution_count": 118,
   "id": "b9cf0162",
   "metadata": {},
   "outputs": [
    {
     "data": {
      "text/plain": [
       "array([ 1.,  5.,  4.,  3.,  2.,  6., nan])"
      ]
     },
     "execution_count": 118,
     "metadata": {},
     "output_type": "execute_result"
    }
   ],
   "source": [
    "NewYork['RatecodeID'] = NewYork['RatecodeID'].apply(ubah_nilai_yang_salah)\n",
    "NewYork['RatecodeID'].unique()"
   ]
  },
  {
   "cell_type": "code",
   "execution_count": 119,
   "id": "b077c514",
   "metadata": {},
   "outputs": [],
   "source": [
    "modus = NewYork['RatecodeID'].mode()[0]\n",
    "NewYork['RatecodeID'].fillna(modus, inplace=True)"
   ]
  },
  {
   "cell_type": "code",
   "execution_count": 120,
   "id": "8718bce7",
   "metadata": {},
   "outputs": [],
   "source": [
    "# mengisi nilai kosong dengan menggunakan median dan bukan mean karena tidak mungkin nilai jumlah manusia merupakan bil.real\n",
    "median = NewYork['passenger_count'].median()\n",
    "NewYork['passenger_count'].fillna(median, inplace=True)"
   ]
  },
  {
   "cell_type": "code",
   "execution_count": 121,
   "id": "7841cc64",
   "metadata": {},
   "outputs": [],
   "source": [
    "# nilai NaN diisi dengan nilai lima karena berdasarkan keterangannya 5 untuk keterangan unknown\n",
    "NewYork['payment_type'].fillna(5, inplace=True)"
   ]
  },
  {
   "cell_type": "code",
   "execution_count": 122,
   "id": "9f9b863c",
   "metadata": {},
   "outputs": [],
   "source": [
    "# mengisi nilai kosong dari kolom tipe trip dengan modus\n",
    "modus = NewYork['trip_type'].mode()[0]\n",
    "NewYork['trip_type'].fillna(modus, inplace=True)"
   ]
  },
  {
   "cell_type": "code",
   "execution_count": 123,
   "id": "ff1acb6c",
   "metadata": {},
   "outputs": [],
   "source": [
    "# membuat fungsi yang menghilangkan negatif untuk data pada kolom congestion_surcharge, karena tidak mungkin biaya tambahan\n",
    "# yang dibayarkan penumpang seperti congestion_surchange bernilai negatif\n",
    "def ganti_nilai_negatif(data):\n",
    "    if data < 0:\n",
    "        return data * -1\n",
    "    else:\n",
    "        return data"
   ]
  },
  {
   "cell_type": "code",
   "execution_count": 124,
   "id": "fab3c087",
   "metadata": {},
   "outputs": [],
   "source": [
    "NewYork['congestion_surcharge'] = NewYork['congestion_surcharge'].apply(ganti_nilai_negatif)"
   ]
  },
  {
   "cell_type": "code",
   "execution_count": 125,
   "id": "d40ddb63",
   "metadata": {},
   "outputs": [],
   "source": [
    "# mengisi nilainya dengan median karena datanya belum tentu terdistribusi normal, kalaupun terdistribusi normal pasti\n",
    "#nilai median == mean\n",
    "median = NewYork['congestion_surcharge'].median()\n",
    "NewYork['congestion_surcharge'].fillna(median, inplace = True)"
   ]
  },
  {
   "cell_type": "code",
   "execution_count": 126,
   "id": "1d844cc4",
   "metadata": {},
   "outputs": [],
   "source": [
    "# mengganti seluruh tipe data dengan tipe data yang sesuai\n",
    "NewYork['store_and_fwd_flag'] = NewYork['store_and_fwd_flag'].astype(str)\n",
    "NewYork['lpep_pickup_datetime'] = pd.to_datetime(NewYork['lpep_pickup_datetime'])\n",
    "NewYork['lpep_dropoff_datetime'] = pd.to_datetime(NewYork['lpep_dropoff_datetime'])\n",
    "NewYork['payment_type'] = NewYork['payment_type'].astype('category')\n",
    "NewYork['trip_type'] = NewYork['trip_type'].astype('category')\n",
    "NewYork['passenger_count'] = NewYork['passenger_count'].astype(int)\n",
    "NewYork['RatecodeID'] = NewYork['RatecodeID'].astype(int)"
   ]
  },
  {
   "cell_type": "markdown",
   "id": "af82b3fb",
   "metadata": {},
   "source": [
    "## **Handle Outlier, Duplikat dan Salah Ketik**\n",
    "Untuk mengidentifikasi adanya salah ketik maka akan digunakannya fungsi { .unique() } namun kebanyakan dari hal tersebut sudah dilakukan pada bagian Handle NaN. Sementara itu, untuk nilai duplikat sendiri tidak ditemukan kesalahan pada data ini (atau mungkin saya yang terkecoh). Pada data ini terdapat nilai outlier yang signifikan terutama pada kolom trip_distance dan kolom duration yang saya buat berdasarkan hasil pengurangan datetime_dropoff dan datetime_pickup, duration sendiri memuat nilai lama waktu perjalanan yang dihabiskan supir untuk mengantar penumpang. \n",
    "Pada Outlier kali ini saya menggunakan metode batas interquartile, yaitu dengan menghapus nilai outlier yang berada di atas nilai q3 + iqr * 1,5 dan di bawah q1 - iqr * 1,5"
   ]
  },
  {
   "cell_type": "code",
   "execution_count": 22,
   "id": "db77b224",
   "metadata": {},
   "outputs": [],
   "source": [
    "# membuat kolom duration\n",
    "NewYork['duration'] = NewYork['lpep_dropoff_datetime'] - NewYork['lpep_pickup_datetime']"
   ]
  },
  {
   "cell_type": "code",
   "execution_count": 23,
   "id": "691db31e",
   "metadata": {},
   "outputs": [
    {
     "data": {
      "text/plain": [
       "array([2, 1], dtype=int64)"
      ]
     },
     "execution_count": 23,
     "metadata": {},
     "output_type": "execute_result"
    }
   ],
   "source": [
    "# memeriksa salah ketik pada kolom VendorID\n",
    "NewYork['VendorID'].unique()"
   ]
  },
  {
   "cell_type": "code",
   "execution_count": 24,
   "id": "19be2d47",
   "metadata": {},
   "outputs": [
    {
     "data": {
      "text/plain": [
       "1636"
      ]
     },
     "execution_count": 24,
     "metadata": {},
     "output_type": "execute_result"
    }
   ],
   "source": [
    "# terdapat niai duplikat pada datetime_pickup namun sayangnya itu merupakan datetime yang bisa jadi kebetulan\n",
    "NewYork['lpep_pickup_datetime'].duplicated().sum()"
   ]
  },
  {
   "cell_type": "code",
   "execution_count": 25,
   "id": "b2039399",
   "metadata": {},
   "outputs": [
    {
     "data": {
      "text/plain": [
       "1692"
      ]
     },
     "execution_count": 25,
     "metadata": {},
     "output_type": "execute_result"
    }
   ],
   "source": [
    "# begitu juga dengan datetime_dropoff\n",
    "NewYork['lpep_dropoff_datetime'].duplicated().sum()"
   ]
  },
  {
   "cell_type": "code",
   "execution_count": 26,
   "id": "683b829b",
   "metadata": {},
   "outputs": [
    {
     "data": {
      "text/plain": [
       "array(['N', 'Y'], dtype=object)"
      ]
     },
     "execution_count": 26,
     "metadata": {},
     "output_type": "execute_result"
    }
   ],
   "source": [
    "# memeriksa salah ketik pada kolom store_and_fwd_flag\n",
    "NewYork['store_and_fwd_flag'].unique()"
   ]
  },
  {
   "cell_type": "code",
   "execution_count": 27,
   "id": "af1d495c",
   "metadata": {},
   "outputs": [
    {
     "data": {
      "text/plain": [
       "RatecodeID\n",
       "1    66427\n",
       "5     1529\n",
       "2      158\n",
       "4       57\n",
       "3       30\n",
       "6       10\n",
       "Name: count, dtype: int64"
      ]
     },
     "execution_count": 27,
     "metadata": {},
     "output_type": "execute_result"
    }
   ],
   "source": [
    "#Menghitung banyak dari tiap value yang berbeda pada RatecodeID\n",
    "NewYork['RatecodeID'].value_counts()"
   ]
  },
  {
   "cell_type": "code",
   "execution_count": 28,
   "id": "87a81ad1",
   "metadata": {},
   "outputs": [
    {
     "data": {
      "text/plain": [
       "249"
      ]
     },
     "execution_count": 28,
     "metadata": {},
     "output_type": "execute_result"
    }
   ],
   "source": [
    "#Menghitung jumlah nilai yang berbeda \n",
    "NewYork['DOLocationID'].nunique()"
   ]
  },
  {
   "cell_type": "code",
   "execution_count": 29,
   "id": "cb189e45",
   "metadata": {},
   "outputs": [
    {
     "data": {
      "text/plain": [
       "226"
      ]
     },
     "execution_count": 29,
     "metadata": {},
     "output_type": "execute_result"
    }
   ],
   "source": [
    "#Menghitung jumlah nilai yang berbeda \n",
    "NewYork['PULocationID'].nunique()"
   ]
  },
  {
   "cell_type": "code",
   "execution_count": 30,
   "id": "117bab14",
   "metadata": {},
   "outputs": [],
   "source": [
    "# ID drop out tidak mungkin sama dengan ID pick up\n",
    "NewYork = NewYork[NewYork['DOLocationID'] != NewYork['PULocationID']]"
   ]
  },
  {
   "cell_type": "code",
   "execution_count": 31,
   "id": "d477a9f6",
   "metadata": {},
   "outputs": [
    {
     "data": {
      "text/plain": [
       "count    59583.000000\n",
       "mean         1.297602\n",
       "std          0.955164\n",
       "min          0.000000\n",
       "25%          1.000000\n",
       "50%          1.000000\n",
       "75%          1.000000\n",
       "max          7.000000\n",
       "Name: passenger_count, dtype: float64"
      ]
     },
     "execution_count": 31,
     "metadata": {},
     "output_type": "execute_result"
    }
   ],
   "source": [
    "# terdapat nilai max yang tidak biasa\n",
    "NewYork['passenger_count'].describe()"
   ]
  },
  {
   "cell_type": "code",
   "execution_count": 32,
   "id": "f7cff734",
   "metadata": {},
   "outputs": [],
   "source": [
    "#Namun rupanya hasil dari keduanya adalah 1 yang mengakibatkan iqr = 0, karena iqr = 0 \n",
    "#maka nilai selain 1 bukanlah outlier melainkan nilai yang rentangnya jauh dari rata-rata\n",
    "q1 = NewYork['passenger_count'].describe()['25%']\n",
    "q3 = NewYork['passenger_count'].describe()['75%']\n",
    "iqr = q3 - q1\n",
    "mencari_outlier1 = q1 - iqr*1.5\n",
    "mencari_outlier2 = q3 + iqr*1.5"
   ]
  },
  {
   "cell_type": "markdown",
   "id": "80083f0c",
   "metadata": {},
   "source": [
    "## **Handle Outlier** ##\n",
    "Menghandle oulier dari trip_distance dan duration"
   ]
  },
  {
   "cell_type": "code",
   "execution_count": 33,
   "id": "72cf1180",
   "metadata": {},
   "outputs": [
    {
     "data": {
      "text/plain": [
       "0.0"
      ]
     },
     "execution_count": 33,
     "metadata": {},
     "output_type": "execute_result"
    }
   ],
   "source": [
    "# terdapat nilai min yang tidak biasa tidak mungkin jarak yang ditempuh bernilai 0\n",
    "NewYork['trip_distance'].min()"
   ]
  },
  {
   "cell_type": "code",
   "execution_count": 34,
   "id": "0f6ec3ac",
   "metadata": {},
   "outputs": [],
   "source": [
    "# Maka dibuatlah dataframe baru tanpa nilai 0 pada trip_distance-nya untuk kemudian\n",
    "# dibandingkan grafik distribusinya dengan dataframe sebelumnya\n",
    "hapus_zero_distance = NewYork[NewYork['trip_distance']==0].index\n",
    "NewYork2 = NewYork.drop(hapus_zero_distance)"
   ]
  },
  {
   "cell_type": "code",
   "execution_count": 35,
   "id": "044dc902",
   "metadata": {},
   "outputs": [
    {
     "data": {
      "text/html": [
       "<div>\n",
       "<style scoped>\n",
       "    .dataframe tbody tr th:only-of-type {\n",
       "        vertical-align: middle;\n",
       "    }\n",
       "\n",
       "    .dataframe tbody tr th {\n",
       "        vertical-align: top;\n",
       "    }\n",
       "\n",
       "    .dataframe thead th {\n",
       "        text-align: right;\n",
       "    }\n",
       "</style>\n",
       "<table border=\"1\" class=\"dataframe\">\n",
       "  <thead>\n",
       "    <tr style=\"text-align: right;\">\n",
       "      <th></th>\n",
       "      <th>VendorID</th>\n",
       "      <th>lpep_pickup_datetime</th>\n",
       "      <th>lpep_dropoff_datetime</th>\n",
       "      <th>store_and_fwd_flag</th>\n",
       "      <th>RatecodeID</th>\n",
       "      <th>PULocationID</th>\n",
       "      <th>DOLocationID</th>\n",
       "      <th>passenger_count</th>\n",
       "      <th>trip_distance</th>\n",
       "      <th>fare_amount</th>\n",
       "      <th>extra</th>\n",
       "      <th>mta_tax</th>\n",
       "      <th>tip_amount</th>\n",
       "      <th>tolls_amount</th>\n",
       "      <th>improvement_surcharge</th>\n",
       "      <th>total_amount</th>\n",
       "      <th>payment_type</th>\n",
       "      <th>trip_type</th>\n",
       "      <th>congestion_surcharge</th>\n",
       "      <th>duration</th>\n",
       "    </tr>\n",
       "  </thead>\n",
       "  <tbody>\n",
       "    <tr>\n",
       "      <th>0</th>\n",
       "      <td>2</td>\n",
       "      <td>2023-01-01 00:26:10</td>\n",
       "      <td>2023-01-01 00:37:11</td>\n",
       "      <td>N</td>\n",
       "      <td>1</td>\n",
       "      <td>166</td>\n",
       "      <td>143</td>\n",
       "      <td>1</td>\n",
       "      <td>2.58</td>\n",
       "      <td>14.9</td>\n",
       "      <td>1.0</td>\n",
       "      <td>0.5</td>\n",
       "      <td>4.03</td>\n",
       "      <td>0.0</td>\n",
       "      <td>1.0</td>\n",
       "      <td>24.18</td>\n",
       "      <td>1.0</td>\n",
       "      <td>1.0</td>\n",
       "      <td>2.75</td>\n",
       "      <td>0 days 00:11:01</td>\n",
       "    </tr>\n",
       "    <tr>\n",
       "      <th>1</th>\n",
       "      <td>2</td>\n",
       "      <td>2023-01-01 00:51:03</td>\n",
       "      <td>2023-01-01 00:57:49</td>\n",
       "      <td>N</td>\n",
       "      <td>1</td>\n",
       "      <td>24</td>\n",
       "      <td>43</td>\n",
       "      <td>1</td>\n",
       "      <td>1.81</td>\n",
       "      <td>10.7</td>\n",
       "      <td>1.0</td>\n",
       "      <td>0.5</td>\n",
       "      <td>2.64</td>\n",
       "      <td>0.0</td>\n",
       "      <td>1.0</td>\n",
       "      <td>15.84</td>\n",
       "      <td>1.0</td>\n",
       "      <td>1.0</td>\n",
       "      <td>0.00</td>\n",
       "      <td>0 days 00:06:46</td>\n",
       "    </tr>\n",
       "    <tr>\n",
       "      <th>3</th>\n",
       "      <td>1</td>\n",
       "      <td>2023-01-01 00:13:14</td>\n",
       "      <td>2023-01-01 00:19:03</td>\n",
       "      <td>N</td>\n",
       "      <td>1</td>\n",
       "      <td>41</td>\n",
       "      <td>238</td>\n",
       "      <td>1</td>\n",
       "      <td>1.30</td>\n",
       "      <td>6.5</td>\n",
       "      <td>0.5</td>\n",
       "      <td>1.5</td>\n",
       "      <td>1.70</td>\n",
       "      <td>0.0</td>\n",
       "      <td>1.0</td>\n",
       "      <td>10.20</td>\n",
       "      <td>1.0</td>\n",
       "      <td>1.0</td>\n",
       "      <td>0.00</td>\n",
       "      <td>0 days 00:05:49</td>\n",
       "    </tr>\n",
       "    <tr>\n",
       "      <th>4</th>\n",
       "      <td>1</td>\n",
       "      <td>2023-01-01 00:33:04</td>\n",
       "      <td>2023-01-01 00:39:02</td>\n",
       "      <td>N</td>\n",
       "      <td>1</td>\n",
       "      <td>41</td>\n",
       "      <td>74</td>\n",
       "      <td>1</td>\n",
       "      <td>1.10</td>\n",
       "      <td>6.0</td>\n",
       "      <td>0.5</td>\n",
       "      <td>1.5</td>\n",
       "      <td>0.00</td>\n",
       "      <td>0.0</td>\n",
       "      <td>1.0</td>\n",
       "      <td>8.00</td>\n",
       "      <td>1.0</td>\n",
       "      <td>1.0</td>\n",
       "      <td>0.00</td>\n",
       "      <td>0 days 00:05:58</td>\n",
       "    </tr>\n",
       "    <tr>\n",
       "      <th>5</th>\n",
       "      <td>2</td>\n",
       "      <td>2023-01-01 00:53:31</td>\n",
       "      <td>2023-01-01 01:11:04</td>\n",
       "      <td>N</td>\n",
       "      <td>1</td>\n",
       "      <td>41</td>\n",
       "      <td>262</td>\n",
       "      <td>1</td>\n",
       "      <td>2.78</td>\n",
       "      <td>17.7</td>\n",
       "      <td>1.0</td>\n",
       "      <td>0.5</td>\n",
       "      <td>0.00</td>\n",
       "      <td>0.0</td>\n",
       "      <td>1.0</td>\n",
       "      <td>22.95</td>\n",
       "      <td>2.0</td>\n",
       "      <td>1.0</td>\n",
       "      <td>2.75</td>\n",
       "      <td>0 days 00:17:33</td>\n",
       "    </tr>\n",
       "  </tbody>\n",
       "</table>\n",
       "</div>"
      ],
      "text/plain": [
       "   VendorID lpep_pickup_datetime lpep_dropoff_datetime store_and_fwd_flag  \\\n",
       "0         2  2023-01-01 00:26:10   2023-01-01 00:37:11                  N   \n",
       "1         2  2023-01-01 00:51:03   2023-01-01 00:57:49                  N   \n",
       "3         1  2023-01-01 00:13:14   2023-01-01 00:19:03                  N   \n",
       "4         1  2023-01-01 00:33:04   2023-01-01 00:39:02                  N   \n",
       "5         2  2023-01-01 00:53:31   2023-01-01 01:11:04                  N   \n",
       "\n",
       "   RatecodeID  PULocationID  DOLocationID  passenger_count  trip_distance  \\\n",
       "0           1           166           143                1           2.58   \n",
       "1           1            24            43                1           1.81   \n",
       "3           1            41           238                1           1.30   \n",
       "4           1            41            74                1           1.10   \n",
       "5           1            41           262                1           2.78   \n",
       "\n",
       "   fare_amount  extra  mta_tax  tip_amount  tolls_amount  \\\n",
       "0         14.9    1.0      0.5        4.03           0.0   \n",
       "1         10.7    1.0      0.5        2.64           0.0   \n",
       "3          6.5    0.5      1.5        1.70           0.0   \n",
       "4          6.0    0.5      1.5        0.00           0.0   \n",
       "5         17.7    1.0      0.5        0.00           0.0   \n",
       "\n",
       "   improvement_surcharge  total_amount payment_type trip_type  \\\n",
       "0                    1.0         24.18          1.0       1.0   \n",
       "1                    1.0         15.84          1.0       1.0   \n",
       "3                    1.0         10.20          1.0       1.0   \n",
       "4                    1.0          8.00          1.0       1.0   \n",
       "5                    1.0         22.95          2.0       1.0   \n",
       "\n",
       "   congestion_surcharge        duration  \n",
       "0                  2.75 0 days 00:11:01  \n",
       "1                  0.00 0 days 00:06:46  \n",
       "3                  0.00 0 days 00:05:49  \n",
       "4                  0.00 0 days 00:05:58  \n",
       "5                  2.75 0 days 00:17:33  "
      ]
     },
     "execution_count": 35,
     "metadata": {},
     "output_type": "execute_result"
    }
   ],
   "source": [
    "NewYork2.head(5)"
   ]
  },
  {
   "cell_type": "code",
   "execution_count": 36,
   "id": "75fa05be",
   "metadata": {},
   "outputs": [],
   "source": [
    "# konversi timedelta pada kolom duration ke total second dan ubah ke menit dengan membaginya dengan 60\n",
    "NewYork2['duration'] = NewYork2['duration'].dt.total_seconds()\n",
    "NewYork2['duration'] = NewYork2['duration']/60\n",
    "NewYork2['duration'] = round(NewYork2['duration'],2)"
   ]
  },
  {
   "cell_type": "code",
   "execution_count": 37,
   "id": "bf4b3035",
   "metadata": {},
   "outputs": [],
   "source": [
    "# menghapus nilai outlier\n",
    "q1 = NewYork2['duration'].describe()['25%']\n",
    "q3 = NewYork2['duration'].describe()['75%']\n",
    "iqr = q3 - q1\n",
    "batas_bawah = q1 - iqr*1.5\n",
    "batas_atas = q3 + iqr*1.5"
   ]
  },
  {
   "cell_type": "code",
   "execution_count": 38,
   "id": "6a9a12e4",
   "metadata": {},
   "outputs": [],
   "source": [
    "# Membuat dataframe lain berisi durasi tanpa outlier\n",
    "NewYork3 = NewYork2[(NewYork2['duration'] <= batas_atas) & (NewYork2['duration'] >= batas_bawah)]"
   ]
  },
  {
   "cell_type": "code",
   "execution_count": 39,
   "id": "3a64926f",
   "metadata": {},
   "outputs": [
    {
     "data": {
      "text/plain": [
       "(57517, 20)"
      ]
     },
     "execution_count": 39,
     "metadata": {},
     "output_type": "execute_result"
    }
   ],
   "source": [
    "# Lalu ukurannya dibandingkan\n",
    "NewYork2.shape"
   ]
  },
  {
   "cell_type": "code",
   "execution_count": 40,
   "id": "3c9afb7a",
   "metadata": {},
   "outputs": [
    {
     "data": {
      "text/plain": [
       "(54633, 20)"
      ]
     },
     "execution_count": 40,
     "metadata": {},
     "output_type": "execute_result"
    }
   ],
   "source": [
    "NewYork3.shape"
   ]
  },
  {
   "cell_type": "code",
   "execution_count": 41,
   "id": "b4d0caff",
   "metadata": {},
   "outputs": [
    {
     "data": {
      "text/plain": [
       "count    57517.000000\n",
       "mean        18.672635\n",
       "std         73.661360\n",
       "min          0.000000\n",
       "25%          8.250000\n",
       "50%         12.220000\n",
       "75%         18.000000\n",
       "max       1438.930000\n",
       "Name: duration, dtype: float64"
      ]
     },
     "execution_count": 41,
     "metadata": {},
     "output_type": "execute_result"
    }
   ],
   "source": [
    "NewYork2['duration'].describe()"
   ]
  },
  {
   "cell_type": "code",
   "execution_count": 42,
   "id": "6825344d",
   "metadata": {},
   "outputs": [
    {
     "data": {
      "text/plain": [
       "count    54633.000000\n",
       "mean        13.047216\n",
       "std          6.589992\n",
       "min          0.000000\n",
       "25%          8.050000\n",
       "50%         11.820000\n",
       "75%         16.920000\n",
       "max         32.620000\n",
       "Name: duration, dtype: float64"
      ]
     },
     "execution_count": 42,
     "metadata": {},
     "output_type": "execute_result"
    }
   ],
   "source": [
    "NewYork3['duration'].describe()"
   ]
  },
  {
   "cell_type": "code",
   "execution_count": 43,
   "id": "5592ec7b",
   "metadata": {},
   "outputs": [
    {
     "name": "stderr",
     "output_type": "stream",
     "text": [
      "C:\\Users\\hp\\AppData\\Local\\Temp\\ipykernel_13820\\1265147429.py:1: UserWarning: \n",
      "\n",
      "`distplot` is a deprecated function and will be removed in seaborn v0.14.0.\n",
      "\n",
      "Please adapt your code to use either `displot` (a figure-level function with\n",
      "similar flexibility) or `histplot` (an axes-level function for histograms).\n",
      "\n",
      "For a guide to updating your code to use the new functions, please see\n",
      "https://gist.github.com/mwaskom/de44147ed2974457ad6372750bbe5751\n",
      "\n",
      "  sns.distplot(NewYork2['duration'], color = 'tomato')\n"
     ]
    },
    {
     "data": {
      "text/plain": [
       "<Axes: xlabel='duration', ylabel='Density'>"
      ]
     },
     "execution_count": 43,
     "metadata": {},
     "output_type": "execute_result"
    },
    {
     "data": {
      "image/png": "[encoded data removed]",
      "text/plain": [
       "<Figure size 640x480 with 1 Axes>"
      ]
     },
     "metadata": {},
     "output_type": "display_data"
    }
   ],
   "source": [
    "sns.distplot(NewYork2['duration'], color = 'tomato')"
   ]
  },
  {
   "cell_type": "code",
   "execution_count": 44,
   "id": "ba530da8",
   "metadata": {},
   "outputs": [
    {
     "name": "stderr",
     "output_type": "stream",
     "text": [
      "C:\\Users\\hp\\AppData\\Local\\Temp\\ipykernel_13820\\2326191247.py:1: UserWarning: \n",
      "\n",
      "`distplot` is a deprecated function and will be removed in seaborn v0.14.0.\n",
      "\n",
      "Please adapt your code to use either `displot` (a figure-level function with\n",
      "similar flexibility) or `histplot` (an axes-level function for histograms).\n",
      "\n",
      "For a guide to updating your code to use the new functions, please see\n",
      "https://gist.github.com/mwaskom/de44147ed2974457ad6372750bbe5751\n",
      "\n",
      "  sns.distplot(NewYork3['duration'])\n"
     ]
    },
    {
     "data": {
      "text/plain": [
       "<Axes: xlabel='duration', ylabel='Density'>"
      ]
     },
     "execution_count": 44,
     "metadata": {},
     "output_type": "execute_result"
    },
    {
     "data": {
      "image/png": "[encoded data removed]",
      "text/plain": [
       "<Figure size 640x480 with 1 Axes>"
      ]
     },
     "metadata": {},
     "output_type": "display_data"
    }
   ],
   "source": [
    "sns.distplot(NewYork3['duration'])"
   ]
  },
  {
   "cell_type": "code",
   "execution_count": 45,
   "id": "24eb27e5",
   "metadata": {},
   "outputs": [],
   "source": [
    "# Dilanjut dengan menghapus nilaii outlier pada trip distance\n",
    "q1 = NewYork2['trip_distance'].describe()['25%']\n",
    "q3 = NewYork2['trip_distance'].describe()['75%']\n",
    "iqr = q3 - q1\n",
    "batas_bawah2 = q1 - iqr*1.5\n",
    "batas_atas2 = q3 + iqr*1.5"
   ]
  },
  {
   "cell_type": "code",
   "execution_count": 46,
   "id": "f0d7638f",
   "metadata": {},
   "outputs": [],
   "source": [
    "NewYork3 = NewYork3[(NewYork3['trip_distance'] >= batas_bawah2) & (NewYork3['trip_distance'] <= batas_atas2)]"
   ]
  },
  {
   "cell_type": "code",
   "execution_count": 47,
   "id": "9723c71c",
   "metadata": {},
   "outputs": [
    {
     "data": {
      "text/plain": [
       "count     57517.000000\n",
       "mean          9.240659\n",
       "std         636.641149\n",
       "min           0.010000\n",
       "25%           1.390000\n",
       "50%           2.120000\n",
       "75%           3.590000\n",
       "max      120098.840000\n",
       "Name: trip_distance, dtype: float64"
      ]
     },
     "execution_count": 47,
     "metadata": {},
     "output_type": "execute_result"
    }
   ],
   "source": [
    "NewYork2['trip_distance'].describe()"
   ]
  },
  {
   "cell_type": "code",
   "execution_count": 48,
   "id": "2f96d4c8",
   "metadata": {},
   "outputs": [
    {
     "data": {
      "text/plain": [
       "count    51802.000000\n",
       "mean         2.340450\n",
       "std          1.393554\n",
       "min          0.010000\n",
       "25%          1.330000\n",
       "50%          1.950000\n",
       "75%          3.000000\n",
       "max          6.890000\n",
       "Name: trip_distance, dtype: float64"
      ]
     },
     "execution_count": 48,
     "metadata": {},
     "output_type": "execute_result"
    }
   ],
   "source": [
    "NewYork3['trip_distance'].describe()"
   ]
  },
  {
   "cell_type": "code",
   "execution_count": 49,
   "id": "faa903d3",
   "metadata": {},
   "outputs": [
    {
     "name": "stderr",
     "output_type": "stream",
     "text": [
      "C:\\Users\\hp\\AppData\\Local\\Temp\\ipykernel_13820\\655803729.py:1: UserWarning: \n",
      "\n",
      "`distplot` is a deprecated function and will be removed in seaborn v0.14.0.\n",
      "\n",
      "Please adapt your code to use either `displot` (a figure-level function with\n",
      "similar flexibility) or `histplot` (an axes-level function for histograms).\n",
      "\n",
      "For a guide to updating your code to use the new functions, please see\n",
      "https://gist.github.com/mwaskom/de44147ed2974457ad6372750bbe5751\n",
      "\n",
      "  sns.distplot(NewYork2['trip_distance'], color = 'tomato')\n"
     ]
    },
    {
     "data": {
      "text/plain": [
       "<Axes: xlabel='trip_distance', ylabel='Density'>"
      ]
     },
     "execution_count": 49,
     "metadata": {},
     "output_type": "execute_result"
    },
    {
     "data": {
      "image/png": "[encoded data removed]",
      "text/plain": [
       "<Figure size 640x480 with 1 Axes>"
      ]
     },
     "metadata": {},
     "output_type": "display_data"
    }
   ],
   "source": [
    "sns.distplot(NewYork2['trip_distance'], color = 'tomato')"
   ]
  },
  {
   "cell_type": "code",
   "execution_count": 50,
   "id": "96252f8a",
   "metadata": {},
   "outputs": [
    {
     "name": "stderr",
     "output_type": "stream",
     "text": [
      "C:\\Users\\hp\\AppData\\Local\\Temp\\ipykernel_13820\\4221555931.py:1: UserWarning: \n",
      "\n",
      "`distplot` is a deprecated function and will be removed in seaborn v0.14.0.\n",
      "\n",
      "Please adapt your code to use either `displot` (a figure-level function with\n",
      "similar flexibility) or `histplot` (an axes-level function for histograms).\n",
      "\n",
      "For a guide to updating your code to use the new functions, please see\n",
      "https://gist.github.com/mwaskom/de44147ed2974457ad6372750bbe5751\n",
      "\n",
      "  sns.distplot(NewYork3['trip_distance'])\n"
     ]
    },
    {
     "data": {
      "text/plain": [
       "<Axes: xlabel='trip_distance', ylabel='Density'>"
      ]
     },
     "execution_count": 50,
     "metadata": {},
     "output_type": "execute_result"
    },
    {
     "data": {
      "image/png": "[encoded data removed]",
      "text/plain": [
       "<Figure size 640x480 with 1 Axes>"
      ]
     },
     "metadata": {},
     "output_type": "display_data"
    }
   ],
   "source": [
    "sns.distplot(NewYork3['trip_distance'])"
   ]
  },
  {
   "cell_type": "code",
   "execution_count": 51,
   "id": "14a5275e",
   "metadata": {},
   "outputs": [
    {
     "data": {
      "text/plain": [
       "<Axes: xlabel='trip_distance', ylabel='duration'>"
      ]
     },
     "execution_count": 51,
     "metadata": {},
     "output_type": "execute_result"
    },
    {
     "data": {
      "image/png": "[encoded data removed]",
      "text/plain": [
       "<Figure size 640x480 with 1 Axes>"
      ]
     },
     "metadata": {},
     "output_type": "display_data"
    }
   ],
   "source": [
    "sns.scatterplot(data=NewYork2, x='trip_distance', y = 'duration', color = 'red')"
   ]
  },
  {
   "cell_type": "code",
   "execution_count": 52,
   "id": "4d8357f0",
   "metadata": {},
   "outputs": [
    {
     "data": {
      "text/plain": [
       "<Axes: xlabel='trip_distance', ylabel='duration'>"
      ]
     },
     "execution_count": 52,
     "metadata": {},
     "output_type": "execute_result"
    },
    {
     "data": {
      "image/png": "[encoded data removed]",
      "text/plain": [
       "<Figure size 640x480 with 1 Axes>"
      ]
     },
     "metadata": {},
     "output_type": "display_data"
    }
   ],
   "source": [
    "sns.scatterplot(data=NewYork3, x='trip_distance', y = 'duration', color = 'green')"
   ]
  },
  {
   "cell_type": "code",
   "execution_count": 106,
   "id": "7262fc63",
   "metadata": {},
   "outputs": [
    {
     "data": {
      "text/plain": [
       "count    47351.000000\n",
       "mean        20.219047\n",
       "std          7.528788\n",
       "min          1.010000\n",
       "25%         14.450000\n",
       "50%         18.690000\n",
       "75%         24.750000\n",
       "max         46.950000\n",
       "Name: total_amount, dtype: float64"
      ]
     },
     "execution_count": 106,
     "metadata": {},
     "output_type": "execute_result"
    }
   ],
   "source": [
    "NewYork3['total_amount'].describe()"
   ]
  },
  {
   "cell_type": "code",
   "execution_count": 54,
   "id": "a11c61a9",
   "metadata": {},
   "outputs": [
    {
     "data": {
      "text/plain": [
       "array([1, 5, 6, 2, 4, 3])"
      ]
     },
     "execution_count": 54,
     "metadata": {},
     "output_type": "execute_result"
    }
   ],
   "source": [
    "NewYork3['RatecodeID'].unique()"
   ]
  },
  {
   "cell_type": "code",
   "execution_count": 55,
   "id": "8996495e",
   "metadata": {},
   "outputs": [],
   "source": [
    "q1 = NewYork2['total_amount'].describe()['25%']\n",
    "q3 = NewYork2['total_amount'].describe()['75%']\n",
    "iqr = q3 - q1\n",
    "batas_bawah3 = q1 - iqr*1.5\n",
    "batas_atas3 = q3 + iqr*1.5"
   ]
  },
  {
   "cell_type": "code",
   "execution_count": 56,
   "id": "4f4479a7",
   "metadata": {},
   "outputs": [],
   "source": [
    "NewYork3 = NewYork3[(NewYork3['total_amount'] >= batas_bawah3) & (NewYork3['total_amount'] <= batas_atas3)]"
   ]
  },
  {
   "cell_type": "code",
   "execution_count": 57,
   "id": "84d4516f",
   "metadata": {},
   "outputs": [
    {
     "name": "stderr",
     "output_type": "stream",
     "text": [
      "C:\\Users\\hp\\AppData\\Local\\Temp\\ipykernel_13820\\879851452.py:1: UserWarning: \n",
      "\n",
      "`distplot` is a deprecated function and will be removed in seaborn v0.14.0.\n",
      "\n",
      "Please adapt your code to use either `displot` (a figure-level function with\n",
      "similar flexibility) or `histplot` (an axes-level function for histograms).\n",
      "\n",
      "For a guide to updating your code to use the new functions, please see\n",
      "https://gist.github.com/mwaskom/de44147ed2974457ad6372750bbe5751\n",
      "\n",
      "  sns.distplot(NewYork2['total_amount'], color = 'tomato')\n"
     ]
    },
    {
     "data": {
      "text/plain": [
       "<Axes: xlabel='total_amount', ylabel='Density'>"
      ]
     },
     "execution_count": 57,
     "metadata": {},
     "output_type": "execute_result"
    },
    {
     "data": {
      "image/png": "[encoded data removed]",
      "text/plain": [
       "<Figure size 640x480 with 1 Axes>"
      ]
     },
     "metadata": {},
     "output_type": "display_data"
    }
   ],
   "source": [
    "sns.distplot(NewYork2['total_amount'], color = 'tomato')"
   ]
  },
  {
   "cell_type": "code",
   "execution_count": 58,
   "id": "e2372af1",
   "metadata": {},
   "outputs": [
    {
     "name": "stderr",
     "output_type": "stream",
     "text": [
      "C:\\Users\\hp\\AppData\\Local\\Temp\\ipykernel_13820\\3717943139.py:1: UserWarning: \n",
      "\n",
      "`distplot` is a deprecated function and will be removed in seaborn v0.14.0.\n",
      "\n",
      "Please adapt your code to use either `displot` (a figure-level function with\n",
      "similar flexibility) or `histplot` (an axes-level function for histograms).\n",
      "\n",
      "For a guide to updating your code to use the new functions, please see\n",
      "https://gist.github.com/mwaskom/de44147ed2974457ad6372750bbe5751\n",
      "\n",
      "  sns.distplot(NewYork3['total_amount'])\n"
     ]
    },
    {
     "data": {
      "text/plain": [
       "<Axes: xlabel='total_amount', ylabel='Density'>"
      ]
     },
     "execution_count": 58,
     "metadata": {},
     "output_type": "execute_result"
    },
    {
     "data": {
      "image/png": "[encoded data removed]",
      "text/plain": [
       "<Figure size 640x480 with 1 Axes>"
      ]
     },
     "metadata": {},
     "output_type": "display_data"
    }
   ],
   "source": [
    "sns.distplot(NewYork3['total_amount'])"
   ]
  },
  {
   "cell_type": "code",
   "execution_count": 59,
   "id": "865172a6",
   "metadata": {},
   "outputs": [
    {
     "data": {
      "text/plain": [
       "<Axes: xlabel='trip_distance', ylabel='total_amount'>"
      ]
     },
     "execution_count": 59,
     "metadata": {},
     "output_type": "execute_result"
    },
    {
     "data": {
      "image/png": "[encoded data removed]",
      "text/plain": [
       "<Figure size 640x480 with 1 Axes>"
      ]
     },
     "metadata": {},
     "output_type": "display_data"
    }
   ],
   "source": [
    "sns.scatterplot(data=NewYork2, x='trip_distance', y = 'total_amount', color = 'tomato')"
   ]
  },
  {
   "cell_type": "code",
   "execution_count": 60,
   "id": "1672c02c",
   "metadata": {},
   "outputs": [
    {
     "data": {
      "text/plain": [
       "<Axes: xlabel='trip_distance', ylabel='total_amount'>"
      ]
     },
     "execution_count": 60,
     "metadata": {},
     "output_type": "execute_result"
    },
    {
     "data": {
      "image/png": "[encoded data removed]",
      "text/plain": [
       "<Figure size 640x480 with 1 Axes>"
      ]
     },
     "metadata": {},
     "output_type": "display_data"
    }
   ],
   "source": [
    "sns.scatterplot(data=NewYork3, x='trip_distance', y = 'total_amount', color = 'skyblue')"
   ]
  },
  {
   "cell_type": "markdown",
   "id": "74c3d44c",
   "metadata": {},
   "source": [
    "## **Typical Taxi Distances**\n",
    "**Short Rides**: Di daerah perkotaan, perjalanan singkat dengan taksi biasanya dapat menempuh jarak sekitar **1 hingga 5 kilometer** (1.000 hingga 5.000 meter), yang dapat memakan waktu sekitar *5 hingga 15 menit.*\n",
    "        **Medium Rides**: Untuk perjalanan di dalam kota, orang mungkin menggunakan taksi untuk jarak **5 hingga 15 kilometer** (5.000 hingga 15.000 meter).\n",
    "        **Long Rides**: Perjalanan taksi yang lebih jauh, seperti dari satu bagian kota ke bagian kota lain atau ke bandara, dapat berkisar antara **15 hingga 30 kilometer** (15.000 hingga 30.000 meter) *atau lebih*, tergantung pada tata letak kota."
   ]
  },
  {
   "cell_type": "markdown",
   "id": "55a9ba5d",
   "metadata": {},
   "source": [
    "**1 km = 0.621371 miles.**\n",
    "yang artinya\n",
    "**5 km = 3.106855 miles**"
   ]
  },
  {
   "cell_type": "code",
   "execution_count": 62,
   "id": "92b31194",
   "metadata": {},
   "outputs": [],
   "source": [
    "# Membuat kolom baru berisi kategori jarak Taxi\n",
    "NewYork3['typical_taxi_distance'] = np.where(((NewYork3['trip_distance'] >= 0.621371)&(NewYork3['trip_distance'] <= 3.106855)), 'Short Rides', \n",
    "                                             np.where(((NewYork3['trip_distance'] > 3.106855)&(NewYork3['trip_distance'] <= 9.320565)), 'Medium Rides', 'Long Rides'))"
   ]
  },
  {
   "cell_type": "code",
   "execution_count": 63,
   "id": "2ff6108d",
   "metadata": {},
   "outputs": [],
   "source": [
    "# karena 1 km sudah termasuk kedalam short rides yang setara dengan 0.65 mil maka dilakukan filterisasi kembali supaya \n",
    "# jaraknya != 0 \n",
    "# karena 1 hinnga 5 km memakan waktu sekitar 5 hingga 15 menit maka durasi harus lebih besar sama dengan 5\n",
    "NewYork3 = NewYork3[(NewYork3['trip_distance'] >= 0.621371)]\n",
    "NewYork3 = NewYork3[(NewYork3['duration'] >= 5)]"
   ]
  },
  {
   "cell_type": "code",
   "execution_count": 64,
   "id": "dbd0da7d",
   "metadata": {},
   "outputs": [
    {
     "data": {
      "text/plain": [
       "count    47356.000000\n",
       "mean        15.025392\n",
       "std          5.873017\n",
       "min          0.000000\n",
       "25%         10.700000\n",
       "50%         13.500000\n",
       "75%         18.400000\n",
       "max         41.200000\n",
       "Name: fare_amount, dtype: float64"
      ]
     },
     "execution_count": 64,
     "metadata": {},
     "output_type": "execute_result"
    }
   ],
   "source": [
    "# terdapat nilai negatif yang tidak biasa bila saja terdapat kolom yang menjelaskan mengapa nilainya menjadi negatif \n",
    "# seperti apakah sopir memiliki kredit atau hutang\n",
    "# maka nilai ini tidak akan dihapus\n",
    "NewYork3['fare_amount'].describe()"
   ]
  },
  {
   "cell_type": "code",
   "execution_count": 65,
   "id": "23b0de06",
   "metadata": {},
   "outputs": [],
   "source": [
    "# maka hapus fare_amount yang bernilai negatif \n",
    "NewYork3 = NewYork3[NewYork3['fare_amount']>0]"
   ]
  },
  {
   "cell_type": "code",
   "execution_count": 66,
   "id": "6d4dcc62",
   "metadata": {},
   "outputs": [
    {
     "data": {
      "text/plain": [
       "count    47351.000000\n",
       "mean        15.026979\n",
       "std          5.871297\n",
       "min          0.010000\n",
       "25%         10.700000\n",
       "50%         13.500000\n",
       "75%         18.400000\n",
       "max         41.200000\n",
       "Name: fare_amount, dtype: float64"
      ]
     },
     "execution_count": 66,
     "metadata": {},
     "output_type": "execute_result"
    }
   ],
   "source": [
    "NewYork3['fare_amount'].describe()"
   ]
  },
  {
   "cell_type": "code",
   "execution_count": 67,
   "id": "51db89fc",
   "metadata": {},
   "outputs": [
    {
     "data": {
      "text/html": [
       "<div>\n",
       "<style scoped>\n",
       "    .dataframe tbody tr th:only-of-type {\n",
       "        vertical-align: middle;\n",
       "    }\n",
       "\n",
       "    .dataframe tbody tr th {\n",
       "        vertical-align: top;\n",
       "    }\n",
       "\n",
       "    .dataframe thead th {\n",
       "        text-align: right;\n",
       "    }\n",
       "</style>\n",
       "<table border=\"1\" class=\"dataframe\">\n",
       "  <thead>\n",
       "    <tr style=\"text-align: right;\">\n",
       "      <th></th>\n",
       "      <th>VendorID</th>\n",
       "      <th>lpep_pickup_datetime</th>\n",
       "      <th>lpep_dropoff_datetime</th>\n",
       "      <th>store_and_fwd_flag</th>\n",
       "      <th>RatecodeID</th>\n",
       "      <th>PULocationID</th>\n",
       "      <th>DOLocationID</th>\n",
       "      <th>passenger_count</th>\n",
       "      <th>trip_distance</th>\n",
       "      <th>fare_amount</th>\n",
       "      <th>extra</th>\n",
       "      <th>mta_tax</th>\n",
       "      <th>tip_amount</th>\n",
       "      <th>tolls_amount</th>\n",
       "      <th>improvement_surcharge</th>\n",
       "      <th>total_amount</th>\n",
       "      <th>payment_type</th>\n",
       "      <th>trip_type</th>\n",
       "      <th>congestion_surcharge</th>\n",
       "      <th>duration</th>\n",
       "      <th>typical_taxi_distance</th>\n",
       "    </tr>\n",
       "  </thead>\n",
       "  <tbody>\n",
       "    <tr>\n",
       "      <th>0</th>\n",
       "      <td>2</td>\n",
       "      <td>2023-01-01 00:26:10</td>\n",
       "      <td>2023-01-01 00:37:11</td>\n",
       "      <td>N</td>\n",
       "      <td>1</td>\n",
       "      <td>166</td>\n",
       "      <td>143</td>\n",
       "      <td>1</td>\n",
       "      <td>2.58</td>\n",
       "      <td>14.9</td>\n",
       "      <td>1.0</td>\n",
       "      <td>0.5</td>\n",
       "      <td>4.03</td>\n",
       "      <td>0.0</td>\n",
       "      <td>1.0</td>\n",
       "      <td>24.18</td>\n",
       "      <td>1.0</td>\n",
       "      <td>1.0</td>\n",
       "      <td>2.75</td>\n",
       "      <td>11.02</td>\n",
       "      <td>Short Rides</td>\n",
       "    </tr>\n",
       "    <tr>\n",
       "      <th>1</th>\n",
       "      <td>2</td>\n",
       "      <td>2023-01-01 00:51:03</td>\n",
       "      <td>2023-01-01 00:57:49</td>\n",
       "      <td>N</td>\n",
       "      <td>1</td>\n",
       "      <td>24</td>\n",
       "      <td>43</td>\n",
       "      <td>1</td>\n",
       "      <td>1.81</td>\n",
       "      <td>10.7</td>\n",
       "      <td>1.0</td>\n",
       "      <td>0.5</td>\n",
       "      <td>2.64</td>\n",
       "      <td>0.0</td>\n",
       "      <td>1.0</td>\n",
       "      <td>15.84</td>\n",
       "      <td>1.0</td>\n",
       "      <td>1.0</td>\n",
       "      <td>0.00</td>\n",
       "      <td>6.77</td>\n",
       "      <td>Short Rides</td>\n",
       "    </tr>\n",
       "    <tr>\n",
       "      <th>3</th>\n",
       "      <td>1</td>\n",
       "      <td>2023-01-01 00:13:14</td>\n",
       "      <td>2023-01-01 00:19:03</td>\n",
       "      <td>N</td>\n",
       "      <td>1</td>\n",
       "      <td>41</td>\n",
       "      <td>238</td>\n",
       "      <td>1</td>\n",
       "      <td>1.30</td>\n",
       "      <td>6.5</td>\n",
       "      <td>0.5</td>\n",
       "      <td>1.5</td>\n",
       "      <td>1.70</td>\n",
       "      <td>0.0</td>\n",
       "      <td>1.0</td>\n",
       "      <td>10.20</td>\n",
       "      <td>1.0</td>\n",
       "      <td>1.0</td>\n",
       "      <td>0.00</td>\n",
       "      <td>5.82</td>\n",
       "      <td>Short Rides</td>\n",
       "    </tr>\n",
       "    <tr>\n",
       "      <th>4</th>\n",
       "      <td>1</td>\n",
       "      <td>2023-01-01 00:33:04</td>\n",
       "      <td>2023-01-01 00:39:02</td>\n",
       "      <td>N</td>\n",
       "      <td>1</td>\n",
       "      <td>41</td>\n",
       "      <td>74</td>\n",
       "      <td>1</td>\n",
       "      <td>1.10</td>\n",
       "      <td>6.0</td>\n",
       "      <td>0.5</td>\n",
       "      <td>1.5</td>\n",
       "      <td>0.00</td>\n",
       "      <td>0.0</td>\n",
       "      <td>1.0</td>\n",
       "      <td>8.00</td>\n",
       "      <td>1.0</td>\n",
       "      <td>1.0</td>\n",
       "      <td>0.00</td>\n",
       "      <td>5.97</td>\n",
       "      <td>Short Rides</td>\n",
       "    </tr>\n",
       "    <tr>\n",
       "      <th>5</th>\n",
       "      <td>2</td>\n",
       "      <td>2023-01-01 00:53:31</td>\n",
       "      <td>2023-01-01 01:11:04</td>\n",
       "      <td>N</td>\n",
       "      <td>1</td>\n",
       "      <td>41</td>\n",
       "      <td>262</td>\n",
       "      <td>1</td>\n",
       "      <td>2.78</td>\n",
       "      <td>17.7</td>\n",
       "      <td>1.0</td>\n",
       "      <td>0.5</td>\n",
       "      <td>0.00</td>\n",
       "      <td>0.0</td>\n",
       "      <td>1.0</td>\n",
       "      <td>22.95</td>\n",
       "      <td>2.0</td>\n",
       "      <td>1.0</td>\n",
       "      <td>2.75</td>\n",
       "      <td>17.55</td>\n",
       "      <td>Short Rides</td>\n",
       "    </tr>\n",
       "  </tbody>\n",
       "</table>\n",
       "</div>"
      ],
      "text/plain": [
       "   VendorID lpep_pickup_datetime lpep_dropoff_datetime store_and_fwd_flag  \\\n",
       "0         2  2023-01-01 00:26:10   2023-01-01 00:37:11                  N   \n",
       "1         2  2023-01-01 00:51:03   2023-01-01 00:57:49                  N   \n",
       "3         1  2023-01-01 00:13:14   2023-01-01 00:19:03                  N   \n",
       "4         1  2023-01-01 00:33:04   2023-01-01 00:39:02                  N   \n",
       "5         2  2023-01-01 00:53:31   2023-01-01 01:11:04                  N   \n",
       "\n",
       "   RatecodeID  PULocationID  DOLocationID  passenger_count  trip_distance  \\\n",
       "0           1           166           143                1           2.58   \n",
       "1           1            24            43                1           1.81   \n",
       "3           1            41           238                1           1.30   \n",
       "4           1            41            74                1           1.10   \n",
       "5           1            41           262                1           2.78   \n",
       "\n",
       "   fare_amount  extra  mta_tax  tip_amount  tolls_amount  \\\n",
       "0         14.9    1.0      0.5        4.03           0.0   \n",
       "1         10.7    1.0      0.5        2.64           0.0   \n",
       "3          6.5    0.5      1.5        1.70           0.0   \n",
       "4          6.0    0.5      1.5        0.00           0.0   \n",
       "5         17.7    1.0      0.5        0.00           0.0   \n",
       "\n",
       "   improvement_surcharge  total_amount payment_type trip_type  \\\n",
       "0                    1.0         24.18          1.0       1.0   \n",
       "1                    1.0         15.84          1.0       1.0   \n",
       "3                    1.0         10.20          1.0       1.0   \n",
       "4                    1.0          8.00          1.0       1.0   \n",
       "5                    1.0         22.95          2.0       1.0   \n",
       "\n",
       "   congestion_surcharge  duration typical_taxi_distance  \n",
       "0                  2.75     11.02           Short Rides  \n",
       "1                  0.00      6.77           Short Rides  \n",
       "3                  0.00      5.82           Short Rides  \n",
       "4                  0.00      5.97           Short Rides  \n",
       "5                  2.75     17.55           Short Rides  "
      ]
     },
     "execution_count": 67,
     "metadata": {},
     "output_type": "execute_result"
    }
   ],
   "source": [
    "NewYork3.head(5)"
   ]
  },
  {
   "cell_type": "markdown",
   "id": "9b819cfd",
   "metadata": {},
   "source": [
    "## **Membuat Kolom Tambahan** ##\n",
    "Dari keterangan yang ada kolom RatecodeID merupakan sebuah kolom kategori berisikan standar kode tarif mulai dari tarif standar dan sebagainya. Maka saya akan membuat kolom baru berisi keterangan tersebut. Begitu juga dengan kolom-kolom lain yangsetpie dengan RatecodeID akan saya buatkan kolom keterangannya"
   ]
  },
  {
   "cell_type": "code",
   "execution_count": 68,
   "id": "1638e75d",
   "metadata": {},
   "outputs": [],
   "source": [
    "def ubah_nilai(data):\n",
    "    if data == 1:\n",
    "        return 'Standard Rate'\n",
    "    elif data == 2:\n",
    "        return 'JFK'\n",
    "    elif data == 3:\n",
    "        return 'Newark'\n",
    "    elif data == 4:\n",
    "        return 'Nassau or Westchester'\n",
    "    elif data == 5:\n",
    "        return 'Negotiated fare'\n",
    "    elif data == 6:\n",
    "        return 'Group ride'"
   ]
  },
  {
   "cell_type": "code",
   "execution_count": 69,
   "id": "a34d7183",
   "metadata": {},
   "outputs": [],
   "source": [
    "NewYork3['type_of_fare'] = NewYork3['RatecodeID'].apply(ubah_nilai)"
   ]
  },
  {
   "cell_type": "code",
   "execution_count": 70,
   "id": "15b3d339",
   "metadata": {},
   "outputs": [],
   "source": [
    "def ubah_payment(data):\n",
    "    if data == 1:\n",
    "        return 'Credit card'\n",
    "    elif data == 2:\n",
    "        return 'Cash'\n",
    "    elif data == 3:\n",
    "        return 'No charge'\n",
    "    elif data == 4:\n",
    "        return 'Dispute'\n",
    "    elif data == 5:\n",
    "        return 'Unknown'\n",
    "    elif data == 6:\n",
    "        return 'Voided trip'"
   ]
  },
  {
   "cell_type": "code",
   "execution_count": 71,
   "id": "586e5133",
   "metadata": {},
   "outputs": [],
   "source": [
    "NewYork3['payment_type'] = NewYork3['payment_type'].apply(ubah_payment)"
   ]
  },
  {
   "cell_type": "code",
   "execution_count": 72,
   "id": "d7bba210",
   "metadata": {},
   "outputs": [],
   "source": [
    "def ubah_tipe_trip(data):\n",
    "    if data == 1:\n",
    "        return 'Street-hail'\n",
    "    elif data == 2:\n",
    "        return 'Dispatch'"
   ]
  },
  {
   "cell_type": "code",
   "execution_count": 73,
   "id": "64f656f3",
   "metadata": {},
   "outputs": [],
   "source": [
    "NewYork3['trip_type'] = NewYork3['trip_type'].astype(int)\n",
    "NewYork3['trip_type'] = NewYork3['trip_type'].apply(ubah_tipe_trip)"
   ]
  },
  {
   "cell_type": "code",
   "execution_count": 74,
   "id": "52aa0252",
   "metadata": {},
   "outputs": [],
   "source": [
    "# membuat kolom baru hanya berisi tanggal, bulan dan tahun untuk memudahkan analisis\n",
    "NewYork3['lpep_date_only'] = NewYork3['lpep_pickup_datetime'].dt.date"
   ]
  },
  {
   "cell_type": "code",
   "execution_count": 75,
   "id": "90466a8d",
   "metadata": {},
   "outputs": [
    {
     "data": {
      "text/html": [
       "<div>\n",
       "<style scoped>\n",
       "    .dataframe tbody tr th:only-of-type {\n",
       "        vertical-align: middle;\n",
       "    }\n",
       "\n",
       "    .dataframe tbody tr th {\n",
       "        vertical-align: top;\n",
       "    }\n",
       "\n",
       "    .dataframe thead th {\n",
       "        text-align: right;\n",
       "    }\n",
       "</style>\n",
       "<table border=\"1\" class=\"dataframe\">\n",
       "  <thead>\n",
       "    <tr style=\"text-align: right;\">\n",
       "      <th></th>\n",
       "      <th>VendorID</th>\n",
       "      <th>lpep_pickup_datetime</th>\n",
       "      <th>lpep_dropoff_datetime</th>\n",
       "      <th>store_and_fwd_flag</th>\n",
       "      <th>RatecodeID</th>\n",
       "      <th>PULocationID</th>\n",
       "      <th>DOLocationID</th>\n",
       "      <th>passenger_count</th>\n",
       "      <th>trip_distance</th>\n",
       "      <th>fare_amount</th>\n",
       "      <th>extra</th>\n",
       "      <th>mta_tax</th>\n",
       "      <th>tip_amount</th>\n",
       "      <th>tolls_amount</th>\n",
       "      <th>improvement_surcharge</th>\n",
       "      <th>total_amount</th>\n",
       "      <th>payment_type</th>\n",
       "      <th>trip_type</th>\n",
       "      <th>congestion_surcharge</th>\n",
       "      <th>duration</th>\n",
       "      <th>typical_taxi_distance</th>\n",
       "      <th>type_of_fare</th>\n",
       "      <th>lpep_date_only</th>\n",
       "    </tr>\n",
       "  </thead>\n",
       "  <tbody>\n",
       "    <tr>\n",
       "      <th>0</th>\n",
       "      <td>2</td>\n",
       "      <td>2023-01-01 00:26:10</td>\n",
       "      <td>2023-01-01 00:37:11</td>\n",
       "      <td>N</td>\n",
       "      <td>1</td>\n",
       "      <td>166</td>\n",
       "      <td>143</td>\n",
       "      <td>1</td>\n",
       "      <td>2.58</td>\n",
       "      <td>14.9</td>\n",
       "      <td>1.0</td>\n",
       "      <td>0.5</td>\n",
       "      <td>4.03</td>\n",
       "      <td>0.0</td>\n",
       "      <td>1.0</td>\n",
       "      <td>24.18</td>\n",
       "      <td>Credit card</td>\n",
       "      <td>Street-hail</td>\n",
       "      <td>2.75</td>\n",
       "      <td>11.02</td>\n",
       "      <td>Short Rides</td>\n",
       "      <td>Standard Rate</td>\n",
       "      <td>2023-01-01</td>\n",
       "    </tr>\n",
       "    <tr>\n",
       "      <th>1</th>\n",
       "      <td>2</td>\n",
       "      <td>2023-01-01 00:51:03</td>\n",
       "      <td>2023-01-01 00:57:49</td>\n",
       "      <td>N</td>\n",
       "      <td>1</td>\n",
       "      <td>24</td>\n",
       "      <td>43</td>\n",
       "      <td>1</td>\n",
       "      <td>1.81</td>\n",
       "      <td>10.7</td>\n",
       "      <td>1.0</td>\n",
       "      <td>0.5</td>\n",
       "      <td>2.64</td>\n",
       "      <td>0.0</td>\n",
       "      <td>1.0</td>\n",
       "      <td>15.84</td>\n",
       "      <td>Credit card</td>\n",
       "      <td>Street-hail</td>\n",
       "      <td>0.00</td>\n",
       "      <td>6.77</td>\n",
       "      <td>Short Rides</td>\n",
       "      <td>Standard Rate</td>\n",
       "      <td>2023-01-01</td>\n",
       "    </tr>\n",
       "    <tr>\n",
       "      <th>3</th>\n",
       "      <td>1</td>\n",
       "      <td>2023-01-01 00:13:14</td>\n",
       "      <td>2023-01-01 00:19:03</td>\n",
       "      <td>N</td>\n",
       "      <td>1</td>\n",
       "      <td>41</td>\n",
       "      <td>238</td>\n",
       "      <td>1</td>\n",
       "      <td>1.30</td>\n",
       "      <td>6.5</td>\n",
       "      <td>0.5</td>\n",
       "      <td>1.5</td>\n",
       "      <td>1.70</td>\n",
       "      <td>0.0</td>\n",
       "      <td>1.0</td>\n",
       "      <td>10.20</td>\n",
       "      <td>Credit card</td>\n",
       "      <td>Street-hail</td>\n",
       "      <td>0.00</td>\n",
       "      <td>5.82</td>\n",
       "      <td>Short Rides</td>\n",
       "      <td>Standard Rate</td>\n",
       "      <td>2023-01-01</td>\n",
       "    </tr>\n",
       "    <tr>\n",
       "      <th>4</th>\n",
       "      <td>1</td>\n",
       "      <td>2023-01-01 00:33:04</td>\n",
       "      <td>2023-01-01 00:39:02</td>\n",
       "      <td>N</td>\n",
       "      <td>1</td>\n",
       "      <td>41</td>\n",
       "      <td>74</td>\n",
       "      <td>1</td>\n",
       "      <td>1.10</td>\n",
       "      <td>6.0</td>\n",
       "      <td>0.5</td>\n",
       "      <td>1.5</td>\n",
       "      <td>0.00</td>\n",
       "      <td>0.0</td>\n",
       "      <td>1.0</td>\n",
       "      <td>8.00</td>\n",
       "      <td>Credit card</td>\n",
       "      <td>Street-hail</td>\n",
       "      <td>0.00</td>\n",
       "      <td>5.97</td>\n",
       "      <td>Short Rides</td>\n",
       "      <td>Standard Rate</td>\n",
       "      <td>2023-01-01</td>\n",
       "    </tr>\n",
       "    <tr>\n",
       "      <th>5</th>\n",
       "      <td>2</td>\n",
       "      <td>2023-01-01 00:53:31</td>\n",
       "      <td>2023-01-01 01:11:04</td>\n",
       "      <td>N</td>\n",
       "      <td>1</td>\n",
       "      <td>41</td>\n",
       "      <td>262</td>\n",
       "      <td>1</td>\n",
       "      <td>2.78</td>\n",
       "      <td>17.7</td>\n",
       "      <td>1.0</td>\n",
       "      <td>0.5</td>\n",
       "      <td>0.00</td>\n",
       "      <td>0.0</td>\n",
       "      <td>1.0</td>\n",
       "      <td>22.95</td>\n",
       "      <td>Cash</td>\n",
       "      <td>Street-hail</td>\n",
       "      <td>2.75</td>\n",
       "      <td>17.55</td>\n",
       "      <td>Short Rides</td>\n",
       "      <td>Standard Rate</td>\n",
       "      <td>2023-01-01</td>\n",
       "    </tr>\n",
       "  </tbody>\n",
       "</table>\n",
       "</div>"
      ],
      "text/plain": [
       "   VendorID lpep_pickup_datetime lpep_dropoff_datetime store_and_fwd_flag  \\\n",
       "0         2  2023-01-01 00:26:10   2023-01-01 00:37:11                  N   \n",
       "1         2  2023-01-01 00:51:03   2023-01-01 00:57:49                  N   \n",
       "3         1  2023-01-01 00:13:14   2023-01-01 00:19:03                  N   \n",
       "4         1  2023-01-01 00:33:04   2023-01-01 00:39:02                  N   \n",
       "5         2  2023-01-01 00:53:31   2023-01-01 01:11:04                  N   \n",
       "\n",
       "   RatecodeID  PULocationID  DOLocationID  passenger_count  trip_distance  \\\n",
       "0           1           166           143                1           2.58   \n",
       "1           1            24            43                1           1.81   \n",
       "3           1            41           238                1           1.30   \n",
       "4           1            41            74                1           1.10   \n",
       "5           1            41           262                1           2.78   \n",
       "\n",
       "   fare_amount  extra  mta_tax  tip_amount  tolls_amount  \\\n",
       "0         14.9    1.0      0.5        4.03           0.0   \n",
       "1         10.7    1.0      0.5        2.64           0.0   \n",
       "3          6.5    0.5      1.5        1.70           0.0   \n",
       "4          6.0    0.5      1.5        0.00           0.0   \n",
       "5         17.7    1.0      0.5        0.00           0.0   \n",
       "\n",
       "   improvement_surcharge  total_amount payment_type    trip_type  \\\n",
       "0                    1.0         24.18  Credit card  Street-hail   \n",
       "1                    1.0         15.84  Credit card  Street-hail   \n",
       "3                    1.0         10.20  Credit card  Street-hail   \n",
       "4                    1.0          8.00  Credit card  Street-hail   \n",
       "5                    1.0         22.95         Cash  Street-hail   \n",
       "\n",
       "   congestion_surcharge  duration typical_taxi_distance   type_of_fare  \\\n",
       "0                  2.75     11.02           Short Rides  Standard Rate   \n",
       "1                  0.00      6.77           Short Rides  Standard Rate   \n",
       "3                  0.00      5.82           Short Rides  Standard Rate   \n",
       "4                  0.00      5.97           Short Rides  Standard Rate   \n",
       "5                  2.75     17.55           Short Rides  Standard Rate   \n",
       "\n",
       "  lpep_date_only  \n",
       "0     2023-01-01  \n",
       "1     2023-01-01  \n",
       "3     2023-01-01  \n",
       "4     2023-01-01  \n",
       "5     2023-01-01  "
      ]
     },
     "execution_count": 75,
     "metadata": {},
     "output_type": "execute_result"
    }
   ],
   "source": [
    "NewYork3.head(5)"
   ]
  },
  {
   "cell_type": "markdown",
   "id": "a694c1c8",
   "metadata": {},
   "source": [
    "## **Membuat Grafik** ##\n",
    "Karena data yang dibutuhkan **dirasa** sudah bersih saya akan melanjutkan nya dengan membuat grafik-grafik sederhana yang diharapkan bisa menjadi insight bagi stakeholder. Semoga analisis yang dilakukan tidak salah..."
   ]
  },
  {
   "cell_type": "markdown",
   "id": "c3b18180",
   "metadata": {},
   "source": [
    "## **Mencari Pola Customer** ##"
   ]
  },
  {
   "cell_type": "code",
   "execution_count": 76,
   "id": "b565c376",
   "metadata": {},
   "outputs": [],
   "source": [
    "# Mencari tahu tanggal berapa saja customer banyak menggunakan layanan TAXI\n",
    "LinePlot = NewYork3.groupby(['lpep_date_only'])['passenger_count'].sum()\n",
    "LinePlot = pd.DataFrame(LinePlot)\n",
    "LinePlot.reset_index(inplace = True)"
   ]
  },
  {
   "cell_type": "code",
   "execution_count": 77,
   "id": "6c17104a",
   "metadata": {},
   "outputs": [],
   "source": [
    "LinePlot.drop(index=0, inplace=True)\n",
    "LinePlot.drop(index=32, inplace=True)"
   ]
  },
  {
   "cell_type": "code",
   "execution_count": 78,
   "id": "09b126e3",
   "metadata": {},
   "outputs": [
    {
     "data": {
      "text/html": [
       "<div>\n",
       "<style scoped>\n",
       "    .dataframe tbody tr th:only-of-type {\n",
       "        vertical-align: middle;\n",
       "    }\n",
       "\n",
       "    .dataframe tbody tr th {\n",
       "        vertical-align: top;\n",
       "    }\n",
       "\n",
       "    .dataframe thead th {\n",
       "        text-align: right;\n",
       "    }\n",
       "</style>\n",
       "<table border=\"1\" class=\"dataframe\">\n",
       "  <thead>\n",
       "    <tr style=\"text-align: right;\">\n",
       "      <th></th>\n",
       "      <th>lpep_date_only</th>\n",
       "      <th>passenger_count</th>\n",
       "    </tr>\n",
       "  </thead>\n",
       "  <tbody>\n",
       "    <tr>\n",
       "      <th>26</th>\n",
       "      <td>2023-01-26</td>\n",
       "      <td>2387</td>\n",
       "    </tr>\n",
       "    <tr>\n",
       "      <th>6</th>\n",
       "      <td>2023-01-06</td>\n",
       "      <td>2385</td>\n",
       "    </tr>\n",
       "    <tr>\n",
       "      <th>13</th>\n",
       "      <td>2023-01-13</td>\n",
       "      <td>2348</td>\n",
       "    </tr>\n",
       "    <tr>\n",
       "      <th>19</th>\n",
       "      <td>2023-01-19</td>\n",
       "      <td>2348</td>\n",
       "    </tr>\n",
       "    <tr>\n",
       "      <th>25</th>\n",
       "      <td>2023-01-25</td>\n",
       "      <td>2335</td>\n",
       "    </tr>\n",
       "    <tr>\n",
       "      <th>27</th>\n",
       "      <td>2023-01-27</td>\n",
       "      <td>2257</td>\n",
       "    </tr>\n",
       "    <tr>\n",
       "      <th>11</th>\n",
       "      <td>2023-01-11</td>\n",
       "      <td>2241</td>\n",
       "    </tr>\n",
       "    <tr>\n",
       "      <th>5</th>\n",
       "      <td>2023-01-05</td>\n",
       "      <td>2237</td>\n",
       "    </tr>\n",
       "    <tr>\n",
       "      <th>23</th>\n",
       "      <td>2023-01-23</td>\n",
       "      <td>2224</td>\n",
       "    </tr>\n",
       "    <tr>\n",
       "      <th>20</th>\n",
       "      <td>2023-01-20</td>\n",
       "      <td>2209</td>\n",
       "    </tr>\n",
       "    <tr>\n",
       "      <th>24</th>\n",
       "      <td>2023-01-24</td>\n",
       "      <td>2184</td>\n",
       "    </tr>\n",
       "    <tr>\n",
       "      <th>4</th>\n",
       "      <td>2023-01-04</td>\n",
       "      <td>2164</td>\n",
       "    </tr>\n",
       "    <tr>\n",
       "      <th>12</th>\n",
       "      <td>2023-01-12</td>\n",
       "      <td>2157</td>\n",
       "    </tr>\n",
       "    <tr>\n",
       "      <th>18</th>\n",
       "      <td>2023-01-18</td>\n",
       "      <td>2144</td>\n",
       "    </tr>\n",
       "    <tr>\n",
       "      <th>17</th>\n",
       "      <td>2023-01-17</td>\n",
       "      <td>2106</td>\n",
       "    </tr>\n",
       "    <tr>\n",
       "      <th>9</th>\n",
       "      <td>2023-01-09</td>\n",
       "      <td>2052</td>\n",
       "    </tr>\n",
       "    <tr>\n",
       "      <th>30</th>\n",
       "      <td>2023-01-30</td>\n",
       "      <td>2009</td>\n",
       "    </tr>\n",
       "    <tr>\n",
       "      <th>31</th>\n",
       "      <td>2023-01-31</td>\n",
       "      <td>2001</td>\n",
       "    </tr>\n",
       "    <tr>\n",
       "      <th>3</th>\n",
       "      <td>2023-01-03</td>\n",
       "      <td>1973</td>\n",
       "    </tr>\n",
       "    <tr>\n",
       "      <th>14</th>\n",
       "      <td>2023-01-14</td>\n",
       "      <td>1950</td>\n",
       "    </tr>\n",
       "    <tr>\n",
       "      <th>7</th>\n",
       "      <td>2023-01-07</td>\n",
       "      <td>1923</td>\n",
       "    </tr>\n",
       "    <tr>\n",
       "      <th>10</th>\n",
       "      <td>2023-01-10</td>\n",
       "      <td>1910</td>\n",
       "    </tr>\n",
       "    <tr>\n",
       "      <th>21</th>\n",
       "      <td>2023-01-21</td>\n",
       "      <td>1875</td>\n",
       "    </tr>\n",
       "    <tr>\n",
       "      <th>28</th>\n",
       "      <td>2023-01-28</td>\n",
       "      <td>1822</td>\n",
       "    </tr>\n",
       "    <tr>\n",
       "      <th>15</th>\n",
       "      <td>2023-01-15</td>\n",
       "      <td>1660</td>\n",
       "    </tr>\n",
       "    <tr>\n",
       "      <th>29</th>\n",
       "      <td>2023-01-29</td>\n",
       "      <td>1585</td>\n",
       "    </tr>\n",
       "    <tr>\n",
       "      <th>8</th>\n",
       "      <td>2023-01-08</td>\n",
       "      <td>1555</td>\n",
       "    </tr>\n",
       "    <tr>\n",
       "      <th>22</th>\n",
       "      <td>2023-01-22</td>\n",
       "      <td>1547</td>\n",
       "    </tr>\n",
       "    <tr>\n",
       "      <th>16</th>\n",
       "      <td>2023-01-16</td>\n",
       "      <td>1428</td>\n",
       "    </tr>\n",
       "    <tr>\n",
       "      <th>2</th>\n",
       "      <td>2023-01-02</td>\n",
       "      <td>1397</td>\n",
       "    </tr>\n",
       "    <tr>\n",
       "      <th>1</th>\n",
       "      <td>2023-01-01</td>\n",
       "      <td>1327</td>\n",
       "    </tr>\n",
       "  </tbody>\n",
       "</table>\n",
       "</div>"
      ],
      "text/plain": [
       "   lpep_date_only  passenger_count\n",
       "26     2023-01-26             2387\n",
       "6      2023-01-06             2385\n",
       "13     2023-01-13             2348\n",
       "19     2023-01-19             2348\n",
       "25     2023-01-25             2335\n",
       "27     2023-01-27             2257\n",
       "11     2023-01-11             2241\n",
       "5      2023-01-05             2237\n",
       "23     2023-01-23             2224\n",
       "20     2023-01-20             2209\n",
       "24     2023-01-24             2184\n",
       "4      2023-01-04             2164\n",
       "12     2023-01-12             2157\n",
       "18     2023-01-18             2144\n",
       "17     2023-01-17             2106\n",
       "9      2023-01-09             2052\n",
       "30     2023-01-30             2009\n",
       "31     2023-01-31             2001\n",
       "3      2023-01-03             1973\n",
       "14     2023-01-14             1950\n",
       "7      2023-01-07             1923\n",
       "10     2023-01-10             1910\n",
       "21     2023-01-21             1875\n",
       "28     2023-01-28             1822\n",
       "15     2023-01-15             1660\n",
       "29     2023-01-29             1585\n",
       "8      2023-01-08             1555\n",
       "22     2023-01-22             1547\n",
       "16     2023-01-16             1428\n",
       "2      2023-01-02             1397\n",
       "1      2023-01-01             1327"
      ]
     },
     "execution_count": 78,
     "metadata": {},
     "output_type": "execute_result"
    }
   ],
   "source": [
    "LinePlot.sort_values('passenger_count', ascending = False)"
   ]
  },
  {
   "cell_type": "code",
   "execution_count": 128,
   "id": "857ff81c",
   "metadata": {},
   "outputs": [
    {
     "name": "stderr",
     "output_type": "stream",
     "text": [
      "C:\\Users\\hp\\AppData\\Local\\Temp\\ipykernel_13820\\541961127.py:7: MatplotlibDeprecationWarning: The seaborn styles shipped by Matplotlib are deprecated since 3.6, as they no longer correspond to the styles shipped by seaborn. However, they will remain available as 'seaborn-v0_8-<style>'. Alternatively, directly use the seaborn API instead.\n",
      "  plt.style.use('seaborn')\n"
     ]
    },
    {
     "data": {
      "image/png": "[encoded data removed]",
      "text/plain": [
       "<Figure size 800x550 with 1 Axes>"
      ]
     },
     "metadata": {},
     "output_type": "display_data"
    }
   ],
   "source": [
    "y1 = LinePlot['passenger_count']\n",
    "x = LinePlot['lpep_date_only']\n",
    "\n",
    "desired_dates = ['2023-01-02','2023-01-06', '2023-01-13', '2023-01-19' ,'2023-01-26', '2023-01-29']\n",
    "desired_dates = pd.to_datetime(desired_dates)\n",
    "\n",
    "plt.style.use('seaborn')\n",
    "plt.plot(x, y1, 'green')\n",
    "plt.xticks(ticks=desired_dates, labels=[date.strftime('%Y-%m-%d') for date in desired_dates], rotation = 45)\n",
    "plt.title('Total seluruh customer yang menggunakan layanan taxi per-harinya dalam 30 hari')\n",
    "plt.show()"
   ]
  },
  {
   "cell_type": "code",
   "execution_count": 80,
   "id": "7634a4d8",
   "metadata": {},
   "outputs": [
    {
     "name": "stderr",
     "output_type": "stream",
     "text": [
      "C:\\Users\\hp\\AppData\\Local\\Temp\\ipykernel_13820\\3128924167.py:5: SettingWithCopyWarning: \n",
      "A value is trying to be set on a copy of a slice from a DataFrame.\n",
      "Try using .loc[row_indexer,col_indexer] = value instead\n",
      "\n",
      "See the caveats in the documentation: https://pandas.pydata.org/pandas-docs/stable/user_guide/indexing.html#returning-a-view-versus-a-copy\n",
      "  NewYork4['Typical_TAXI_distance'] = np.where(((NewYork4['trip_distance'] >= 0.621371)&(NewYork4['trip_distance'] <= 3.106855)), 'Short Rides',\n"
     ]
    }
   ],
   "source": [
    "# Membuat dataframe baru berisi kategori jarak Taxi khusus untuk data visualisasi perbandingan tip\n",
    "# nilai outlier atasnya dipertahankan karena jarak yang bisa dilalui taksi bisa >= 30 km\n",
    "NewYork4 = NewYork[(NewYork['trip_distance'] >= batas_bawah2)]\n",
    "NewYork4 = NewYork[(NewYork['trip_distance'] >= 0.621371)]\n",
    "NewYork4['Typical_TAXI_distance'] = np.where(((NewYork4['trip_distance'] >= 0.621371)&(NewYork4['trip_distance'] <= 3.106855)), 'Short Rides', \n",
    "                                             np.where(((NewYork4['trip_distance'] > 3.106855)&(NewYork4['trip_distance'] <= 9.320565)), 'Medium Rides', 'Long Rides'))"
   ]
  },
  {
   "cell_type": "code",
   "execution_count": 81,
   "id": "d62408a8",
   "metadata": {},
   "outputs": [],
   "source": [
    "# Mencari tahu rata-rata pemberian tips oleh penumpang terhadap jauh atau dekatnya jarak TAXI yang dilalui \n",
    "PieChart = NewYork4.groupby(['Typical_TAXI_distance'])['tip_amount'].median()\n",
    "PieChart = pd.DataFrame(PieChart)\n",
    "PieChart.reset_index(inplace=True)"
   ]
  },
  {
   "cell_type": "code",
   "execution_count": 82,
   "id": "4154dba4",
   "metadata": {},
   "outputs": [
    {
     "data": {
      "image/png": "[encoded data removed]",
      "text/plain": [
       "<Figure size 800x600 with 1 Axes>"
      ]
     },
     "metadata": {},
     "output_type": "display_data"
    }
   ],
   "source": [
    "plt.figure(figsize=(8,6))\n",
    "plt.pie(PieChart['tip_amount'], autopct='%.2f', explode = (0, 0.1, 0))\n",
    "plt.title('Perbandingan Tip yang diberikan berdasarkan kategori jarak TAXI')\n",
    "plt.legend(labels = PieChart['Typical_TAXI_distance'])\n",
    "plt.show()"
   ]
  },
  {
   "cell_type": "code",
   "execution_count": 99,
   "id": "ed5cf880",
   "metadata": {},
   "outputs": [],
   "source": [
    "# Mencari tahu lokasi penjemputan paling banyak\n",
    "Lokasi_PU_Terbanyak = NewYork3.groupby(['PULocationID'])['passenger_count'].count()\n",
    "Lokasi_PU_Terbanyak = pd.DataFrame(Lokasi_PU_Terbanyak)\n",
    "Lokasi_PU_Terbanyak.sort_values('passenger_count', ascending = False, inplace = True)\n",
    "Lokasi_PU_Terbanyak = Lokasi_PU_Terbanyak[Lokasi_PU_Terbanyak['passenger_count'] > 2230]\n",
    "Lokasi_PU_Terbanyak.reset_index(inplace = True)"
   ]
  },
  {
   "cell_type": "code",
   "execution_count": 100,
   "id": "8a0670b8",
   "metadata": {},
   "outputs": [
    {
     "data": {
      "image/png": "[encoded data removed]",
      "text/plain": [
       "<Figure size 800x550 with 1 Axes>"
      ]
     },
     "metadata": {},
     "output_type": "display_data"
    }
   ],
   "source": [
    "sns.barplot(data = Lokasi_PU_Terbanyak, x = 'PULocationID', y = 'passenger_count')\n",
    "plt.xlabel('Location ID')\n",
    "plt.ylabel('Banyak Penumpang')\n",
    "plt.title('TOP 6 lokasi Pick Up penumpang paling banyak')\n",
    "plt.show()"
   ]
  },
  {
   "cell_type": "code",
   "execution_count": 85,
   "id": "2df46962",
   "metadata": {},
   "outputs": [],
   "source": [
    "#Mencari tahu lokasi pengantaran paling banyak\n",
    "Lokasi_DO_Terbanyak = NewYork3.groupby(['DOLocationID'])['passenger_count'].count()\n",
    "Lokasi_DO_Terbanyak = pd.DataFrame(Lokasi_DO_Terbanyak)\n",
    "Lokasi_DO_Terbanyak.sort_values('passenger_count', ascending = False, inplace = True)\n",
    "Lokasi_DO_Terbanyak = Lokasi_DO_Terbanyak[Lokasi_DO_Terbanyak['passenger_count']>1700]\n",
    "Lokasi_DO_Terbanyak.reset_index(inplace = True)"
   ]
  },
  {
   "cell_type": "code",
   "execution_count": 86,
   "id": "85587be9",
   "metadata": {},
   "outputs": [
    {
     "data": {
      "image/png": "[encoded data removed]",
      "text/plain": [
       "<Figure size 800x550 with 1 Axes>"
      ]
     },
     "metadata": {},
     "output_type": "display_data"
    }
   ],
   "source": [
    "sns.barplot(data = Lokasi_DO_Terbanyak, x = 'Location ID', y = 'passenger_count')\n",
    "plt.xlabel('Location ID')\n",
    "plt.ylabel('Banyak Penumpang')\n",
    "plt.title('TOP 5 lokasi Drop off penumpang paling banyak')\n",
    "plt.show()"
   ]
  },
  {
   "cell_type": "code",
   "execution_count": 134,
   "id": "11a60a90",
   "metadata": {},
   "outputs": [
    {
     "data": {
      "text/html": [
       "<div>\n",
       "<style scoped>\n",
       "    .dataframe tbody tr th:only-of-type {\n",
       "        vertical-align: middle;\n",
       "    }\n",
       "\n",
       "    .dataframe tbody tr th {\n",
       "        vertical-align: top;\n",
       "    }\n",
       "\n",
       "    .dataframe thead th {\n",
       "        text-align: right;\n",
       "    }\n",
       "</style>\n",
       "<table border=\"1\" class=\"dataframe\">\n",
       "  <thead>\n",
       "    <tr style=\"text-align: right;\">\n",
       "      <th></th>\n",
       "      <th>type_of_fare</th>\n",
       "      <th>total_amount</th>\n",
       "    </tr>\n",
       "  </thead>\n",
       "  <tbody>\n",
       "    <tr>\n",
       "      <th>1</th>\n",
       "      <td>Nassau or Westchester</td>\n",
       "      <td>36.000000</td>\n",
       "    </tr>\n",
       "    <tr>\n",
       "      <th>3</th>\n",
       "      <td>Newark</td>\n",
       "      <td>31.800000</td>\n",
       "    </tr>\n",
       "    <tr>\n",
       "      <th>2</th>\n",
       "      <td>Negotiated fare</td>\n",
       "      <td>21.947529</td>\n",
       "    </tr>\n",
       "    <tr>\n",
       "      <th>4</th>\n",
       "      <td>Standard Rate</td>\n",
       "      <td>20.205826</td>\n",
       "    </tr>\n",
       "    <tr>\n",
       "      <th>0</th>\n",
       "      <td>Group ride</td>\n",
       "      <td>19.700000</td>\n",
       "    </tr>\n",
       "  </tbody>\n",
       "</table>\n",
       "</div>"
      ],
      "text/plain": [
       "            type_of_fare  total_amount\n",
       "1  Nassau or Westchester     36.000000\n",
       "3                 Newark     31.800000\n",
       "2        Negotiated fare     21.947529\n",
       "4          Standard Rate     20.205826\n",
       "0             Group ride     19.700000"
      ]
     },
     "execution_count": 134,
     "metadata": {},
     "output_type": "execute_result"
    }
   ],
   "source": [
    "#Mencari tahu Tipe tarif yang dipilih customer dan rata-rata total tarif yang dibayarkan\n",
    "A = NewYork3.groupby(['type_of_fare'])[['total_amount']].mean()\n",
    "A.reset_index(inplace = True)\n",
    "A.sort_values('total_amount', ascending = False, inplace = True)\n",
    "A"
   ]
  },
  {
   "cell_type": "code",
   "execution_count": 89,
   "id": "ee007f7f",
   "metadata": {},
   "outputs": [
    {
     "data": {
      "image/png": "[encoded data removed]",
      "text/plain": [
       "<Figure size 800x550 with 1 Axes>"
      ]
     },
     "metadata": {},
     "output_type": "display_data"
    }
   ],
   "source": [
    "sns.barplot(data = A, x = 'type_of_fare', y = 'total_amount', color = 'gold')\n",
    "plt.xlabel('Tipe Tarif')\n",
    "plt.ylabel('Rata-rata tarif yang dibayarkan')\n",
    "plt.title('Tipe tarif dan rata-rata total tarif yang dibayarkan')\n",
    "plt.xticks(rotation=45)\n",
    "plt.show()"
   ]
  },
  {
   "cell_type": "code",
   "execution_count": 260,
   "id": "fbfd12a8",
   "metadata": {},
   "outputs": [
    {
     "data": {
      "text/plain": [
       "<Axes: >"
      ]
     },
     "execution_count": 260,
     "metadata": {},
     "output_type": "execute_result"
    },
    {
     "data": {
      "image/png": "[encoded data removed]",
      "text/plain": [
       "<Figure size 800x550 with 2 Axes>"
      ]
     },
     "metadata": {},
     "output_type": "display_data"
    }
   ],
   "source": [
    "korelasi = NewYork3[['fare_amount','trip_distance','duration','mta_tax']].corr()\n",
    "sns.heatmap(korelasi, annot=True, cmap='RdYlGn')"
   ]
  },
  {
   "cell_type": "code",
   "execution_count": 85,
   "id": "25946a33",
   "metadata": {},
   "outputs": [],
   "source": [
    "B = NewYork3['payment_type'].value_counts()\n",
    "B = pd.DataFrame(B)\n",
    "B['count'] = B['count'].apply(lambda x : x*100/B['count'].sum())"
   ]
  },
  {
   "cell_type": "code",
   "execution_count": 86,
   "id": "339ec9ce",
   "metadata": {},
   "outputs": [],
   "source": [
    "A = NewYork3.groupby(['payment_type'])[['total_amount']].median()"
   ]
  },
  {
   "cell_type": "code",
   "execution_count": 87,
   "id": "2cb30040",
   "metadata": {},
   "outputs": [
    {
     "data": {
      "text/html": [
       "<div>\n",
       "<style scoped>\n",
       "    .dataframe tbody tr th:only-of-type {\n",
       "        vertical-align: middle;\n",
       "    }\n",
       "\n",
       "    .dataframe tbody tr th {\n",
       "        vertical-align: top;\n",
       "    }\n",
       "\n",
       "    .dataframe thead th {\n",
       "        text-align: right;\n",
       "    }\n",
       "</style>\n",
       "<table border=\"1\" class=\"dataframe\">\n",
       "  <thead>\n",
       "    <tr style=\"text-align: right;\">\n",
       "      <th></th>\n",
       "      <th>payment_type</th>\n",
       "      <th>count</th>\n",
       "      <th>total_amount</th>\n",
       "    </tr>\n",
       "  </thead>\n",
       "  <tbody>\n",
       "    <tr>\n",
       "      <th>0</th>\n",
       "      <td>Credit card</td>\n",
       "      <td>62.364047</td>\n",
       "      <td>19.855</td>\n",
       "    </tr>\n",
       "    <tr>\n",
       "      <th>1</th>\n",
       "      <td>Cash</td>\n",
       "      <td>31.479800</td>\n",
       "      <td>15.700</td>\n",
       "    </tr>\n",
       "    <tr>\n",
       "      <th>2</th>\n",
       "      <td>Unknown</td>\n",
       "      <td>5.989314</td>\n",
       "      <td>22.230</td>\n",
       "    </tr>\n",
       "    <tr>\n",
       "      <th>3</th>\n",
       "      <td>No charge</td>\n",
       "      <td>0.135161</td>\n",
       "      <td>14.300</td>\n",
       "    </tr>\n",
       "    <tr>\n",
       "      <th>4</th>\n",
       "      <td>Dispute</td>\n",
       "      <td>0.031678</td>\n",
       "      <td>17.800</td>\n",
       "    </tr>\n",
       "  </tbody>\n",
       "</table>\n",
       "</div>"
      ],
      "text/plain": [
       "  payment_type      count  total_amount\n",
       "0  Credit card  62.364047        19.855\n",
       "1         Cash  31.479800        15.700\n",
       "2      Unknown   5.989314        22.230\n",
       "3    No charge   0.135161        14.300\n",
       "4      Dispute   0.031678        17.800"
      ]
     },
     "execution_count": 87,
     "metadata": {},
     "output_type": "execute_result"
    }
   ],
   "source": [
    "Gabungan = pd.merge(B, A, on = 'payment_type')\n",
    "Gabungan.reset_index(inplace=True)\n",
    "Gabungan"
   ]
  },
  {
   "cell_type": "code",
   "execution_count": 88,
   "id": "baf9e9c0",
   "metadata": {},
   "outputs": [
    {
     "data": {
      "image/png": "[encoded data removed]",
      "text/plain": [
       "<Figure size 500x600 with 1 Axes>"
      ]
     },
     "metadata": {},
     "output_type": "display_data"
    }
   ],
   "source": [
    "x = Gabungan['payment_type']\n",
    "y = Gabungan['total_amount']\n",
    "y1 = Gabungan['count']\n",
    "\n",
    "x_axis = np.arange(len(Gabungan['payment_type']))\n",
    "\n",
    "plt.figure(figsize=(5,6))\n",
    "\n",
    "plt.bar(x_axis - 0.2, y1, 0.4, color = 'tomato')\n",
    "plt.bar(x_axis + 0.2, y , 0.4, color = 'gold')\n",
    "\n",
    "plt.xticks(x_axis, x) \n",
    "plt.xlabel('Jenis Pembayaran')\n",
    "plt.ylabel('')\n",
    "plt.title('Perbandingan rata-rata tarif yang dibayarkan terhadap jenis pembayaran yang digunakan pengguna')\n",
    "plt.legend(['jumlah pengguna','rata-rata tarif yg dibayar'])\n",
    "\n",
    "plt.xticks(rotation=90)\n",
    "plt.show()"
   ]
  },
  {
   "cell_type": "markdown",
   "id": "8a327fe6",
   "metadata": {},
   "source": [
    "## **Kemacetan** ##\n",
    "Dilakukan analisis deskriptif untuk menemukan lokasi mana saja yang sering terjadi kemacetan. Dengan mengelompokan Lokasi drop off id dengan durasi paling lama"
   ]
  },
  {
   "cell_type": "code",
   "execution_count": 156,
   "id": "7d0931ab",
   "metadata": {},
   "outputs": [],
   "source": [
    "#Mencari lokasi dropoff customer yang rata-rata durasi perjalanannya paling lama\n",
    "Macet = NewYork3.groupby(['DOLocationID'])[['duration','trip_distance']].median()"
   ]
  },
  {
   "cell_type": "code",
   "execution_count": 157,
   "id": "960f1b91",
   "metadata": {},
   "outputs": [],
   "source": [
    "Macet['durasi/mil'] = Macet['duration']/Macet['trip_distance']"
   ]
  },
  {
   "cell_type": "code",
   "execution_count": 160,
   "id": "53dc8c8c",
   "metadata": {},
   "outputs": [
    {
     "data": {
      "text/html": [
       "<div>\n",
       "<style scoped>\n",
       "    .dataframe tbody tr th:only-of-type {\n",
       "        vertical-align: middle;\n",
       "    }\n",
       "\n",
       "    .dataframe tbody tr th {\n",
       "        vertical-align: top;\n",
       "    }\n",
       "\n",
       "    .dataframe thead th {\n",
       "        text-align: right;\n",
       "    }\n",
       "</style>\n",
       "<table border=\"1\" class=\"dataframe\">\n",
       "  <thead>\n",
       "    <tr style=\"text-align: right;\">\n",
       "      <th></th>\n",
       "      <th>duration</th>\n",
       "      <th>trip_distance</th>\n",
       "      <th>durasi/mil</th>\n",
       "    </tr>\n",
       "    <tr>\n",
       "      <th>DOLocationID</th>\n",
       "      <th></th>\n",
       "      <th></th>\n",
       "      <th></th>\n",
       "    </tr>\n",
       "  </thead>\n",
       "  <tbody>\n",
       "    <tr>\n",
       "      <th>115</th>\n",
       "      <td>17.930</td>\n",
       "      <td>1.85</td>\n",
       "      <td>9.691892</td>\n",
       "    </tr>\n",
       "    <tr>\n",
       "      <th>65</th>\n",
       "      <td>10.075</td>\n",
       "      <td>1.14</td>\n",
       "      <td>8.837719</td>\n",
       "    </tr>\n",
       "    <tr>\n",
       "      <th>33</th>\n",
       "      <td>10.170</td>\n",
       "      <td>1.18</td>\n",
       "      <td>8.618644</td>\n",
       "    </tr>\n",
       "    <tr>\n",
       "      <th>189</th>\n",
       "      <td>12.980</td>\n",
       "      <td>1.60</td>\n",
       "      <td>8.112500</td>\n",
       "    </tr>\n",
       "    <tr>\n",
       "      <th>97</th>\n",
       "      <td>10.580</td>\n",
       "      <td>1.31</td>\n",
       "      <td>8.076336</td>\n",
       "    </tr>\n",
       "  </tbody>\n",
       "</table>\n",
       "</div>"
      ],
      "text/plain": [
       "              duration  trip_distance  durasi/mil\n",
       "DOLocationID                                     \n",
       "115             17.930           1.85    9.691892\n",
       "65              10.075           1.14    8.837719\n",
       "33              10.170           1.18    8.618644\n",
       "189             12.980           1.60    8.112500\n",
       "97              10.580           1.31    8.076336"
      ]
     },
     "execution_count": 160,
     "metadata": {},
     "output_type": "execute_result"
    }
   ],
   "source": [
    "Macet = Macet.sort_values('durasi/mil', ascending = False)\n",
    "Macet.head(5)"
   ]
  },
  {
   "cell_type": "code",
   "execution_count": 161,
   "id": "8bb12764",
   "metadata": {},
   "outputs": [
    {
     "data": {
      "text/html": [
       "<div>\n",
       "<style scoped>\n",
       "    .dataframe tbody tr th:only-of-type {\n",
       "        vertical-align: middle;\n",
       "    }\n",
       "\n",
       "    .dataframe tbody tr th {\n",
       "        vertical-align: top;\n",
       "    }\n",
       "\n",
       "    .dataframe thead th {\n",
       "        text-align: right;\n",
       "    }\n",
       "</style>\n",
       "<table border=\"1\" class=\"dataframe\">\n",
       "  <thead>\n",
       "    <tr style=\"text-align: right;\">\n",
       "      <th></th>\n",
       "      <th>DOLocationID</th>\n",
       "      <th>PULocationID</th>\n",
       "      <th>trip_distance</th>\n",
       "      <th>duration</th>\n",
       "      <th>lpep_pickup_datetime</th>\n",
       "    </tr>\n",
       "  </thead>\n",
       "  <tbody>\n",
       "    <tr>\n",
       "      <th>17662</th>\n",
       "      <td>115</td>\n",
       "      <td>221</td>\n",
       "      <td>1.85</td>\n",
       "      <td>17.93</td>\n",
       "      <td>2023-01-10 08:31:42</td>\n",
       "    </tr>\n",
       "  </tbody>\n",
       "</table>\n",
       "</div>"
      ],
      "text/plain": [
       "       DOLocationID  PULocationID  trip_distance  duration  \\\n",
       "17662           115           221           1.85     17.93   \n",
       "\n",
       "      lpep_pickup_datetime  \n",
       "17662  2023-01-10 08:31:42  "
      ]
     },
     "execution_count": 161,
     "metadata": {},
     "output_type": "execute_result"
    }
   ],
   "source": [
    "#Dicari Pick Up lokasi dari ID lokasi 115\n",
    "NewYork3[NewYork3['DOLocationID']==115][['DOLocationID','PULocationID','trip_distance','duration','lpep_pickup_datetime']]"
   ]
  },
  {
   "cell_type": "code",
   "execution_count": 164,
   "id": "40cfdbfe",
   "metadata": {},
   "outputs": [],
   "source": [
    "#Dicari Pick Up lokasi dari ID Drop Off lokasi 65\n",
    "ID65 = NewYork3[NewYork3['DOLocationID']==65][['DOLocationID','PULocationID','trip_distance','duration','lpep_pickup_datetime']]"
   ]
  },
  {
   "cell_type": "code",
   "execution_count": 165,
   "id": "d5e59d5f",
   "metadata": {},
   "outputs": [],
   "source": [
    "ID65['durasi/mil'] = ID65['duration'] / ID65['trip_distance']"
   ]
  },
  {
   "cell_type": "code",
   "execution_count": 176,
   "id": "92f338db",
   "metadata": {},
   "outputs": [
    {
     "data": {
      "text/html": [
       "<div>\n",
       "<style scoped>\n",
       "    .dataframe tbody tr th:only-of-type {\n",
       "        vertical-align: middle;\n",
       "    }\n",
       "\n",
       "    .dataframe tbody tr th {\n",
       "        vertical-align: top;\n",
       "    }\n",
       "\n",
       "    .dataframe thead th {\n",
       "        text-align: right;\n",
       "    }\n",
       "</style>\n",
       "<table border=\"1\" class=\"dataframe\">\n",
       "  <thead>\n",
       "    <tr style=\"text-align: right;\">\n",
       "      <th></th>\n",
       "      <th>count</th>\n",
       "    </tr>\n",
       "    <tr>\n",
       "      <th>PULocationID</th>\n",
       "      <th></th>\n",
       "    </tr>\n",
       "  </thead>\n",
       "  <tbody>\n",
       "    <tr>\n",
       "      <th>97</th>\n",
       "      <td>39</td>\n",
       "    </tr>\n",
       "    <tr>\n",
       "      <th>66</th>\n",
       "      <td>21</td>\n",
       "    </tr>\n",
       "    <tr>\n",
       "      <th>33</th>\n",
       "      <td>12</td>\n",
       "    </tr>\n",
       "    <tr>\n",
       "      <th>25</th>\n",
       "      <td>7</td>\n",
       "    </tr>\n",
       "    <tr>\n",
       "      <th>181</th>\n",
       "      <td>7</td>\n",
       "    </tr>\n",
       "    <tr>\n",
       "      <th>36</th>\n",
       "      <td>4</td>\n",
       "    </tr>\n",
       "    <tr>\n",
       "      <th>112</th>\n",
       "      <td>3</td>\n",
       "    </tr>\n",
       "    <tr>\n",
       "      <th>188</th>\n",
       "      <td>3</td>\n",
       "    </tr>\n",
       "    <tr>\n",
       "      <th>40</th>\n",
       "      <td>2</td>\n",
       "    </tr>\n",
       "    <tr>\n",
       "      <th>189</th>\n",
       "      <td>2</td>\n",
       "    </tr>\n",
       "    <tr>\n",
       "      <th>85</th>\n",
       "      <td>2</td>\n",
       "    </tr>\n",
       "    <tr>\n",
       "      <th>49</th>\n",
       "      <td>2</td>\n",
       "    </tr>\n",
       "    <tr>\n",
       "      <th>195</th>\n",
       "      <td>1</td>\n",
       "    </tr>\n",
       "    <tr>\n",
       "      <th>256</th>\n",
       "      <td>1</td>\n",
       "    </tr>\n",
       "    <tr>\n",
       "      <th>225</th>\n",
       "      <td>1</td>\n",
       "    </tr>\n",
       "    <tr>\n",
       "      <th>61</th>\n",
       "      <td>1</td>\n",
       "    </tr>\n",
       "    <tr>\n",
       "      <th>62</th>\n",
       "      <td>1</td>\n",
       "    </tr>\n",
       "    <tr>\n",
       "      <th>190</th>\n",
       "      <td>1</td>\n",
       "    </tr>\n",
       "    <tr>\n",
       "      <th>17</th>\n",
       "      <td>1</td>\n",
       "    </tr>\n",
       "    <tr>\n",
       "      <th>54</th>\n",
       "      <td>1</td>\n",
       "    </tr>\n",
       "  </tbody>\n",
       "</table>\n",
       "</div>"
      ],
      "text/plain": [
       "              count\n",
       "PULocationID       \n",
       "97               39\n",
       "66               21\n",
       "33               12\n",
       "25                7\n",
       "181               7\n",
       "36                4\n",
       "112               3\n",
       "188               3\n",
       "40                2\n",
       "189               2\n",
       "85                2\n",
       "49                2\n",
       "195               1\n",
       "256               1\n",
       "225               1\n",
       "61                1\n",
       "62                1\n",
       "190               1\n",
       "17                1\n",
       "54                1"
      ]
     },
     "execution_count": 176,
     "metadata": {},
     "output_type": "execute_result"
    }
   ],
   "source": [
    "#Dicari lokasi Pick Up terbanyak menuju Lokasi ID 65, kenapa yang terbanyak? untuk mencari tahu seberapa sering \n",
    "#tempat tersebut terjadi kemacetan\n",
    "Tabel = ID65['PULocationID'].value_counts()\n",
    "pd.DataFrame(Tabel)"
   ]
  },
  {
   "cell_type": "code",
   "execution_count": 167,
   "id": "7e66302d",
   "metadata": {},
   "outputs": [],
   "source": [
    "Kemacetan2 = ID65.sort_values('durasi/mil',ascending = False)"
   ]
  },
  {
   "cell_type": "code",
   "execution_count": 168,
   "id": "70f1ba90",
   "metadata": {},
   "outputs": [
    {
     "data": {
      "text/html": [
       "<div>\n",
       "<style scoped>\n",
       "    .dataframe tbody tr th:only-of-type {\n",
       "        vertical-align: middle;\n",
       "    }\n",
       "\n",
       "    .dataframe tbody tr th {\n",
       "        vertical-align: top;\n",
       "    }\n",
       "\n",
       "    .dataframe thead th {\n",
       "        text-align: right;\n",
       "    }\n",
       "</style>\n",
       "<table border=\"1\" class=\"dataframe\">\n",
       "  <thead>\n",
       "    <tr style=\"text-align: right;\">\n",
       "      <th></th>\n",
       "      <th>DOLocationID</th>\n",
       "      <th>PULocationID</th>\n",
       "      <th>trip_distance</th>\n",
       "      <th>duration</th>\n",
       "      <th>lpep_pickup_datetime</th>\n",
       "      <th>durasi/mil</th>\n",
       "    </tr>\n",
       "  </thead>\n",
       "  <tbody>\n",
       "    <tr>\n",
       "      <th>928</th>\n",
       "      <td>65</td>\n",
       "      <td>66</td>\n",
       "      <td>0.64</td>\n",
       "      <td>13.17</td>\n",
       "      <td>2023-01-01 17:20:08</td>\n",
       "      <td>20.578125</td>\n",
       "    </tr>\n",
       "    <tr>\n",
       "      <th>32803</th>\n",
       "      <td>65</td>\n",
       "      <td>33</td>\n",
       "      <td>1.38</td>\n",
       "      <td>26.62</td>\n",
       "      <td>2023-01-17 15:18:43</td>\n",
       "      <td>19.289855</td>\n",
       "    </tr>\n",
       "    <tr>\n",
       "      <th>8600</th>\n",
       "      <td>65</td>\n",
       "      <td>97</td>\n",
       "      <td>0.66</td>\n",
       "      <td>10.38</td>\n",
       "      <td>2023-01-05 17:04:26</td>\n",
       "      <td>15.727273</td>\n",
       "    </tr>\n",
       "    <tr>\n",
       "      <th>67988</th>\n",
       "      <td>65</td>\n",
       "      <td>54</td>\n",
       "      <td>0.99</td>\n",
       "      <td>15.00</td>\n",
       "      <td>2023-01-30 09:25:00</td>\n",
       "      <td>15.151515</td>\n",
       "    </tr>\n",
       "    <tr>\n",
       "      <th>55220</th>\n",
       "      <td>65</td>\n",
       "      <td>97</td>\n",
       "      <td>0.89</td>\n",
       "      <td>13.25</td>\n",
       "      <td>2023-01-27 16:43:31</td>\n",
       "      <td>14.887640</td>\n",
       "    </tr>\n",
       "    <tr>\n",
       "      <th>18568</th>\n",
       "      <td>65</td>\n",
       "      <td>25</td>\n",
       "      <td>0.66</td>\n",
       "      <td>9.68</td>\n",
       "      <td>2023-01-10 16:07:21</td>\n",
       "      <td>14.666667</td>\n",
       "    </tr>\n",
       "    <tr>\n",
       "      <th>22365</th>\n",
       "      <td>65</td>\n",
       "      <td>97</td>\n",
       "      <td>1.20</td>\n",
       "      <td>17.25</td>\n",
       "      <td>2023-01-12 10:02:49</td>\n",
       "      <td>14.375000</td>\n",
       "    </tr>\n",
       "    <tr>\n",
       "      <th>29641</th>\n",
       "      <td>65</td>\n",
       "      <td>97</td>\n",
       "      <td>0.74</td>\n",
       "      <td>10.08</td>\n",
       "      <td>2023-01-15 17:10:08</td>\n",
       "      <td>13.621622</td>\n",
       "    </tr>\n",
       "    <tr>\n",
       "      <th>5374</th>\n",
       "      <td>65</td>\n",
       "      <td>97</td>\n",
       "      <td>0.90</td>\n",
       "      <td>12.23</td>\n",
       "      <td>2023-01-04 11:58:36</td>\n",
       "      <td>13.588889</td>\n",
       "    </tr>\n",
       "    <tr>\n",
       "      <th>19766</th>\n",
       "      <td>65</td>\n",
       "      <td>40</td>\n",
       "      <td>1.26</td>\n",
       "      <td>16.57</td>\n",
       "      <td>2023-01-11 09:51:44</td>\n",
       "      <td>13.150794</td>\n",
       "    </tr>\n",
       "  </tbody>\n",
       "</table>\n",
       "</div>"
      ],
      "text/plain": [
       "       DOLocationID  PULocationID  trip_distance  duration  \\\n",
       "928              65            66           0.64     13.17   \n",
       "32803            65            33           1.38     26.62   \n",
       "8600             65            97           0.66     10.38   \n",
       "67988            65            54           0.99     15.00   \n",
       "55220            65            97           0.89     13.25   \n",
       "18568            65            25           0.66      9.68   \n",
       "22365            65            97           1.20     17.25   \n",
       "29641            65            97           0.74     10.08   \n",
       "5374             65            97           0.90     12.23   \n",
       "19766            65            40           1.26     16.57   \n",
       "\n",
       "      lpep_pickup_datetime  durasi/mil  \n",
       "928    2023-01-01 17:20:08   20.578125  \n",
       "32803  2023-01-17 15:18:43   19.289855  \n",
       "8600   2023-01-05 17:04:26   15.727273  \n",
       "67988  2023-01-30 09:25:00   15.151515  \n",
       "55220  2023-01-27 16:43:31   14.887640  \n",
       "18568  2023-01-10 16:07:21   14.666667  \n",
       "22365  2023-01-12 10:02:49   14.375000  \n",
       "29641  2023-01-15 17:10:08   13.621622  \n",
       "5374   2023-01-04 11:58:36   13.588889  \n",
       "19766  2023-01-11 09:51:44   13.150794  "
      ]
     },
     "execution_count": 168,
     "metadata": {},
     "output_type": "execute_result"
    }
   ],
   "source": [
    "Kemacetan2.head(10)"
   ]
  },
  {
   "cell_type": "code",
   "execution_count": 199,
   "id": "0f3f1172",
   "metadata": {},
   "outputs": [],
   "source": [
    "PULoc2 = Kemacetan2.groupby(['DOLocationID','PULocationID'])[['trip_distance','durasi/mil','PULocationID']].median()\n",
    "PULoc2 = PULoc2[(PULoc2['PULocationID']==97)|(PULoc2['PULocationID']==66)|(PULoc2['PULocationID']==33)]"
   ]
  },
  {
   "cell_type": "code",
   "execution_count": 178,
   "id": "c205400f",
   "metadata": {},
   "outputs": [],
   "source": [
    "ID33 = NewYork3[NewYork3['DOLocationID']==33][['DOLocationID','PULocationID','trip_distance','duration','lpep_pickup_datetime']]"
   ]
  },
  {
   "cell_type": "code",
   "execution_count": 179,
   "id": "6e0e1d55",
   "metadata": {},
   "outputs": [],
   "source": [
    "ID33['durasi/mil'] = ID33['duration'] / ID33['trip_distance']"
   ]
  },
  {
   "cell_type": "code",
   "execution_count": 185,
   "id": "4864280d",
   "metadata": {},
   "outputs": [
    {
     "data": {
      "text/html": [
       "<div>\n",
       "<style scoped>\n",
       "    .dataframe tbody tr th:only-of-type {\n",
       "        vertical-align: middle;\n",
       "    }\n",
       "\n",
       "    .dataframe tbody tr th {\n",
       "        vertical-align: top;\n",
       "    }\n",
       "\n",
       "    .dataframe thead th {\n",
       "        text-align: right;\n",
       "    }\n",
       "</style>\n",
       "<table border=\"1\" class=\"dataframe\">\n",
       "  <thead>\n",
       "    <tr style=\"text-align: right;\">\n",
       "      <th></th>\n",
       "      <th>count</th>\n",
       "    </tr>\n",
       "    <tr>\n",
       "      <th>PULocationID</th>\n",
       "      <th></th>\n",
       "    </tr>\n",
       "  </thead>\n",
       "  <tbody>\n",
       "    <tr>\n",
       "      <th>97</th>\n",
       "      <td>42</td>\n",
       "    </tr>\n",
       "    <tr>\n",
       "      <th>65</th>\n",
       "      <td>37</td>\n",
       "    </tr>\n",
       "    <tr>\n",
       "      <th>66</th>\n",
       "      <td>26</td>\n",
       "    </tr>\n",
       "    <tr>\n",
       "      <th>25</th>\n",
       "      <td>22</td>\n",
       "    </tr>\n",
       "    <tr>\n",
       "      <th>52</th>\n",
       "      <td>19</td>\n",
       "    </tr>\n",
       "    <tr>\n",
       "      <th>40</th>\n",
       "      <td>7</td>\n",
       "    </tr>\n",
       "    <tr>\n",
       "      <th>181</th>\n",
       "      <td>5</td>\n",
       "    </tr>\n",
       "    <tr>\n",
       "      <th>17</th>\n",
       "      <td>4</td>\n",
       "    </tr>\n",
       "    <tr>\n",
       "      <th>36</th>\n",
       "      <td>2</td>\n",
       "    </tr>\n",
       "    <tr>\n",
       "      <th>62</th>\n",
       "      <td>2</td>\n",
       "    </tr>\n",
       "    <tr>\n",
       "      <th>49</th>\n",
       "      <td>1</td>\n",
       "    </tr>\n",
       "    <tr>\n",
       "      <th>217</th>\n",
       "      <td>1</td>\n",
       "    </tr>\n",
       "    <tr>\n",
       "      <th>34</th>\n",
       "      <td>1</td>\n",
       "    </tr>\n",
       "    <tr>\n",
       "      <th>157</th>\n",
       "      <td>1</td>\n",
       "    </tr>\n",
       "    <tr>\n",
       "      <th>61</th>\n",
       "      <td>1</td>\n",
       "    </tr>\n",
       "    <tr>\n",
       "      <th>255</th>\n",
       "      <td>1</td>\n",
       "    </tr>\n",
       "    <tr>\n",
       "      <th>193</th>\n",
       "      <td>1</td>\n",
       "    </tr>\n",
       "    <tr>\n",
       "      <th>256</th>\n",
       "      <td>1</td>\n",
       "    </tr>\n",
       "    <tr>\n",
       "      <th>112</th>\n",
       "      <td>1</td>\n",
       "    </tr>\n",
       "  </tbody>\n",
       "</table>\n",
       "</div>"
      ],
      "text/plain": [
       "              count\n",
       "PULocationID       \n",
       "97               42\n",
       "65               37\n",
       "66               26\n",
       "25               22\n",
       "52               19\n",
       "40                7\n",
       "181               5\n",
       "17                4\n",
       "36                2\n",
       "62                2\n",
       "49                1\n",
       "217               1\n",
       "34                1\n",
       "157               1\n",
       "61                1\n",
       "255               1\n",
       "193               1\n",
       "256               1\n",
       "112               1"
      ]
     },
     "execution_count": 185,
     "metadata": {},
     "output_type": "execute_result"
    }
   ],
   "source": [
    "#Dicari lokasi Pick Up terbanyak menuju Lokasi ID 33\n",
    "Tabel2 = ID33['PULocationID'].value_counts()\n",
    "pd.DataFrame(Tabel2)"
   ]
  },
  {
   "cell_type": "code",
   "execution_count": 175,
   "id": "8401a724",
   "metadata": {},
   "outputs": [
    {
     "data": {
      "text/html": [
       "<div>\n",
       "<style scoped>\n",
       "    .dataframe tbody tr th:only-of-type {\n",
       "        vertical-align: middle;\n",
       "    }\n",
       "\n",
       "    .dataframe tbody tr th {\n",
       "        vertical-align: top;\n",
       "    }\n",
       "\n",
       "    .dataframe thead th {\n",
       "        text-align: right;\n",
       "    }\n",
       "</style>\n",
       "<table border=\"1\" class=\"dataframe\">\n",
       "  <thead>\n",
       "    <tr style=\"text-align: right;\">\n",
       "      <th></th>\n",
       "      <th>DOLocationID</th>\n",
       "      <th>PULocationID</th>\n",
       "      <th>trip_distance</th>\n",
       "      <th>duration</th>\n",
       "      <th>lpep_pickup_datetime</th>\n",
       "      <th>durasi/mil</th>\n",
       "    </tr>\n",
       "  </thead>\n",
       "  <tbody>\n",
       "    <tr>\n",
       "      <th>36619</th>\n",
       "      <td>33</td>\n",
       "      <td>65</td>\n",
       "      <td>0.67</td>\n",
       "      <td>20.30</td>\n",
       "      <td>2023-01-19 11:39:49</td>\n",
       "      <td>30.298507</td>\n",
       "    </tr>\n",
       "    <tr>\n",
       "      <th>7675</th>\n",
       "      <td>33</td>\n",
       "      <td>65</td>\n",
       "      <td>0.67</td>\n",
       "      <td>17.57</td>\n",
       "      <td>2023-01-05 11:59:04</td>\n",
       "      <td>26.223881</td>\n",
       "    </tr>\n",
       "    <tr>\n",
       "      <th>806</th>\n",
       "      <td>33</td>\n",
       "      <td>66</td>\n",
       "      <td>0.90</td>\n",
       "      <td>16.85</td>\n",
       "      <td>2023-01-01 16:22:27</td>\n",
       "      <td>18.722222</td>\n",
       "    </tr>\n",
       "    <tr>\n",
       "      <th>66074</th>\n",
       "      <td>33</td>\n",
       "      <td>25</td>\n",
       "      <td>1.23</td>\n",
       "      <td>22.00</td>\n",
       "      <td>2023-01-17 09:52:00</td>\n",
       "      <td>17.886179</td>\n",
       "    </tr>\n",
       "    <tr>\n",
       "      <th>3223</th>\n",
       "      <td>33</td>\n",
       "      <td>65</td>\n",
       "      <td>0.90</td>\n",
       "      <td>15.18</td>\n",
       "      <td>2023-01-03 10:57:12</td>\n",
       "      <td>16.866667</td>\n",
       "    </tr>\n",
       "    <tr>\n",
       "      <th>15546</th>\n",
       "      <td>33</td>\n",
       "      <td>97</td>\n",
       "      <td>1.56</td>\n",
       "      <td>24.03</td>\n",
       "      <td>2023-01-09 08:54:44</td>\n",
       "      <td>15.403846</td>\n",
       "    </tr>\n",
       "    <tr>\n",
       "      <th>33124</th>\n",
       "      <td>33</td>\n",
       "      <td>52</td>\n",
       "      <td>0.69</td>\n",
       "      <td>10.57</td>\n",
       "      <td>2023-01-17 17:56:14</td>\n",
       "      <td>15.318841</td>\n",
       "    </tr>\n",
       "    <tr>\n",
       "      <th>47861</th>\n",
       "      <td>33</td>\n",
       "      <td>65</td>\n",
       "      <td>1.21</td>\n",
       "      <td>17.07</td>\n",
       "      <td>2023-01-24 16:24:49</td>\n",
       "      <td>14.107438</td>\n",
       "    </tr>\n",
       "    <tr>\n",
       "      <th>16127</th>\n",
       "      <td>33</td>\n",
       "      <td>97</td>\n",
       "      <td>0.90</td>\n",
       "      <td>12.43</td>\n",
       "      <td>2023-01-09 13:24:44</td>\n",
       "      <td>13.811111</td>\n",
       "    </tr>\n",
       "    <tr>\n",
       "      <th>36569</th>\n",
       "      <td>33</td>\n",
       "      <td>40</td>\n",
       "      <td>0.91</td>\n",
       "      <td>12.40</td>\n",
       "      <td>2023-01-19 10:14:52</td>\n",
       "      <td>13.626374</td>\n",
       "    </tr>\n",
       "  </tbody>\n",
       "</table>\n",
       "</div>"
      ],
      "text/plain": [
       "       DOLocationID  PULocationID  trip_distance  duration  \\\n",
       "36619            33            65           0.67     20.30   \n",
       "7675             33            65           0.67     17.57   \n",
       "806              33            66           0.90     16.85   \n",
       "66074            33            25           1.23     22.00   \n",
       "3223             33            65           0.90     15.18   \n",
       "15546            33            97           1.56     24.03   \n",
       "33124            33            52           0.69     10.57   \n",
       "47861            33            65           1.21     17.07   \n",
       "16127            33            97           0.90     12.43   \n",
       "36569            33            40           0.91     12.40   \n",
       "\n",
       "      lpep_pickup_datetime  durasi/mil  \n",
       "36619  2023-01-19 11:39:49   30.298507  \n",
       "7675   2023-01-05 11:59:04   26.223881  \n",
       "806    2023-01-01 16:22:27   18.722222  \n",
       "66074  2023-01-17 09:52:00   17.886179  \n",
       "3223   2023-01-03 10:57:12   16.866667  \n",
       "15546  2023-01-09 08:54:44   15.403846  \n",
       "33124  2023-01-17 17:56:14   15.318841  \n",
       "47861  2023-01-24 16:24:49   14.107438  \n",
       "16127  2023-01-09 13:24:44   13.811111  \n",
       "36569  2023-01-19 10:14:52   13.626374  "
      ]
     },
     "execution_count": 175,
     "metadata": {},
     "output_type": "execute_result"
    }
   ],
   "source": [
    "Kemacetan3 = ID33.sort_values('durasi/mil',ascending = False)\n",
    "Kemacetan3.head(10)"
   ]
  },
  {
   "cell_type": "code",
   "execution_count": 200,
   "id": "efd66c63",
   "metadata": {},
   "outputs": [],
   "source": [
    "PULoc3 = Kemacetan3.groupby(['DOLocationID','PULocationID'])[['trip_distance','durasi/mil','PULocationID']].median()\n",
    "PULoc3 = PULoc3[(PULoc3['PULocationID']==97)|(PULoc3['PULocationID']==65)|(PULoc3['PULocationID']==66)]"
   ]
  },
  {
   "cell_type": "code",
   "execution_count": 189,
   "id": "8dbde5c8",
   "metadata": {},
   "outputs": [],
   "source": [
    "ID189 = NewYork3[NewYork3['DOLocationID']==189][['DOLocationID','PULocationID','trip_distance','duration','lpep_pickup_datetime']]"
   ]
  },
  {
   "cell_type": "code",
   "execution_count": 190,
   "id": "494b17f6",
   "metadata": {},
   "outputs": [],
   "source": [
    "ID189['durasi/mil'] = ID189['duration'] / ID189['trip_distance']"
   ]
  },
  {
   "cell_type": "code",
   "execution_count": 191,
   "id": "f7d6be59",
   "metadata": {},
   "outputs": [
    {
     "data": {
      "text/html": [
       "<div>\n",
       "<style scoped>\n",
       "    .dataframe tbody tr th:only-of-type {\n",
       "        vertical-align: middle;\n",
       "    }\n",
       "\n",
       "    .dataframe tbody tr th {\n",
       "        vertical-align: top;\n",
       "    }\n",
       "\n",
       "    .dataframe thead th {\n",
       "        text-align: right;\n",
       "    }\n",
       "</style>\n",
       "<table border=\"1\" class=\"dataframe\">\n",
       "  <thead>\n",
       "    <tr style=\"text-align: right;\">\n",
       "      <th></th>\n",
       "      <th>DOLocationID</th>\n",
       "      <th>PULocationID</th>\n",
       "      <th>trip_distance</th>\n",
       "      <th>duration</th>\n",
       "      <th>lpep_pickup_datetime</th>\n",
       "      <th>durasi/mil</th>\n",
       "    </tr>\n",
       "  </thead>\n",
       "  <tbody>\n",
       "    <tr>\n",
       "      <th>37613</th>\n",
       "      <td>189</td>\n",
       "      <td>65</td>\n",
       "      <td>0.87</td>\n",
       "      <td>21.03</td>\n",
       "      <td>2023-01-19 17:08:12</td>\n",
       "      <td>24.172414</td>\n",
       "    </tr>\n",
       "    <tr>\n",
       "      <th>39572</th>\n",
       "      <td>189</td>\n",
       "      <td>65</td>\n",
       "      <td>1.00</td>\n",
       "      <td>21.08</td>\n",
       "      <td>2023-01-20 15:48:28</td>\n",
       "      <td>21.080000</td>\n",
       "    </tr>\n",
       "    <tr>\n",
       "      <th>35476</th>\n",
       "      <td>189</td>\n",
       "      <td>65</td>\n",
       "      <td>1.00</td>\n",
       "      <td>20.85</td>\n",
       "      <td>2023-01-18 18:35:20</td>\n",
       "      <td>20.850000</td>\n",
       "    </tr>\n",
       "    <tr>\n",
       "      <th>33217</th>\n",
       "      <td>189</td>\n",
       "      <td>97</td>\n",
       "      <td>1.69</td>\n",
       "      <td>27.88</td>\n",
       "      <td>2023-01-17 18:29:49</td>\n",
       "      <td>16.497041</td>\n",
       "    </tr>\n",
       "    <tr>\n",
       "      <th>37873</th>\n",
       "      <td>189</td>\n",
       "      <td>97</td>\n",
       "      <td>1.08</td>\n",
       "      <td>16.37</td>\n",
       "      <td>2023-01-19 18:47:50</td>\n",
       "      <td>15.157407</td>\n",
       "    </tr>\n",
       "    <tr>\n",
       "      <th>32357</th>\n",
       "      <td>189</td>\n",
       "      <td>97</td>\n",
       "      <td>1.07</td>\n",
       "      <td>15.97</td>\n",
       "      <td>2023-01-17 12:25:12</td>\n",
       "      <td>14.925234</td>\n",
       "    </tr>\n",
       "    <tr>\n",
       "      <th>57120</th>\n",
       "      <td>189</td>\n",
       "      <td>65</td>\n",
       "      <td>1.53</td>\n",
       "      <td>22.68</td>\n",
       "      <td>2023-01-28 15:56:33</td>\n",
       "      <td>14.823529</td>\n",
       "    </tr>\n",
       "    <tr>\n",
       "      <th>10495</th>\n",
       "      <td>189</td>\n",
       "      <td>97</td>\n",
       "      <td>1.19</td>\n",
       "      <td>17.57</td>\n",
       "      <td>2023-01-06 15:54:27</td>\n",
       "      <td>14.764706</td>\n",
       "    </tr>\n",
       "    <tr>\n",
       "      <th>45477</th>\n",
       "      <td>189</td>\n",
       "      <td>97</td>\n",
       "      <td>1.15</td>\n",
       "      <td>16.82</td>\n",
       "      <td>2023-01-23 15:55:37</td>\n",
       "      <td>14.626087</td>\n",
       "    </tr>\n",
       "    <tr>\n",
       "      <th>32675</th>\n",
       "      <td>189</td>\n",
       "      <td>97</td>\n",
       "      <td>1.65</td>\n",
       "      <td>23.68</td>\n",
       "      <td>2023-01-17 14:28:24</td>\n",
       "      <td>14.351515</td>\n",
       "    </tr>\n",
       "  </tbody>\n",
       "</table>\n",
       "</div>"
      ],
      "text/plain": [
       "       DOLocationID  PULocationID  trip_distance  duration  \\\n",
       "37613           189            65           0.87     21.03   \n",
       "39572           189            65           1.00     21.08   \n",
       "35476           189            65           1.00     20.85   \n",
       "33217           189            97           1.69     27.88   \n",
       "37873           189            97           1.08     16.37   \n",
       "32357           189            97           1.07     15.97   \n",
       "57120           189            65           1.53     22.68   \n",
       "10495           189            97           1.19     17.57   \n",
       "45477           189            97           1.15     16.82   \n",
       "32675           189            97           1.65     23.68   \n",
       "\n",
       "      lpep_pickup_datetime  durasi/mil  \n",
       "37613  2023-01-19 17:08:12   24.172414  \n",
       "39572  2023-01-20 15:48:28   21.080000  \n",
       "35476  2023-01-18 18:35:20   20.850000  \n",
       "33217  2023-01-17 18:29:49   16.497041  \n",
       "37873  2023-01-19 18:47:50   15.157407  \n",
       "32357  2023-01-17 12:25:12   14.925234  \n",
       "57120  2023-01-28 15:56:33   14.823529  \n",
       "10495  2023-01-06 15:54:27   14.764706  \n",
       "45477  2023-01-23 15:55:37   14.626087  \n",
       "32675  2023-01-17 14:28:24   14.351515  "
      ]
     },
     "execution_count": 191,
     "metadata": {},
     "output_type": "execute_result"
    }
   ],
   "source": [
    "Kemacetan4 = ID189.sort_values('durasi/mil',ascending = False)\n",
    "Kemacetan4.head(10)"
   ]
  },
  {
   "cell_type": "code",
   "execution_count": 192,
   "id": "4e900390",
   "metadata": {},
   "outputs": [
    {
     "data": {
      "text/html": [
       "<div>\n",
       "<style scoped>\n",
       "    .dataframe tbody tr th:only-of-type {\n",
       "        vertical-align: middle;\n",
       "    }\n",
       "\n",
       "    .dataframe tbody tr th {\n",
       "        vertical-align: top;\n",
       "    }\n",
       "\n",
       "    .dataframe thead th {\n",
       "        text-align: right;\n",
       "    }\n",
       "</style>\n",
       "<table border=\"1\" class=\"dataframe\">\n",
       "  <thead>\n",
       "    <tr style=\"text-align: right;\">\n",
       "      <th></th>\n",
       "      <th>count</th>\n",
       "    </tr>\n",
       "    <tr>\n",
       "      <th>PULocationID</th>\n",
       "      <th></th>\n",
       "    </tr>\n",
       "  </thead>\n",
       "  <tbody>\n",
       "    <tr>\n",
       "      <th>97</th>\n",
       "      <td>110</td>\n",
       "    </tr>\n",
       "    <tr>\n",
       "      <th>65</th>\n",
       "      <td>58</td>\n",
       "    </tr>\n",
       "    <tr>\n",
       "      <th>33</th>\n",
       "      <td>17</td>\n",
       "    </tr>\n",
       "    <tr>\n",
       "      <th>25</th>\n",
       "      <td>12</td>\n",
       "    </tr>\n",
       "    <tr>\n",
       "      <th>66</th>\n",
       "      <td>11</td>\n",
       "    </tr>\n",
       "    <tr>\n",
       "      <th>181</th>\n",
       "      <td>8</td>\n",
       "    </tr>\n",
       "    <tr>\n",
       "      <th>52</th>\n",
       "      <td>5</td>\n",
       "    </tr>\n",
       "    <tr>\n",
       "      <th>255</th>\n",
       "      <td>5</td>\n",
       "    </tr>\n",
       "    <tr>\n",
       "      <th>49</th>\n",
       "      <td>4</td>\n",
       "    </tr>\n",
       "    <tr>\n",
       "      <th>17</th>\n",
       "      <td>3</td>\n",
       "    </tr>\n",
       "    <tr>\n",
       "      <th>37</th>\n",
       "      <td>2</td>\n",
       "    </tr>\n",
       "    <tr>\n",
       "      <th>225</th>\n",
       "      <td>2</td>\n",
       "    </tr>\n",
       "    <tr>\n",
       "      <th>62</th>\n",
       "      <td>2</td>\n",
       "    </tr>\n",
       "    <tr>\n",
       "      <th>256</th>\n",
       "      <td>2</td>\n",
       "    </tr>\n",
       "    <tr>\n",
       "      <th>36</th>\n",
       "      <td>2</td>\n",
       "    </tr>\n",
       "    <tr>\n",
       "      <th>61</th>\n",
       "      <td>1</td>\n",
       "    </tr>\n",
       "    <tr>\n",
       "      <th>85</th>\n",
       "      <td>1</td>\n",
       "    </tr>\n",
       "    <tr>\n",
       "      <th>195</th>\n",
       "      <td>1</td>\n",
       "    </tr>\n",
       "    <tr>\n",
       "      <th>190</th>\n",
       "      <td>1</td>\n",
       "    </tr>\n",
       "    <tr>\n",
       "      <th>89</th>\n",
       "      <td>1</td>\n",
       "    </tr>\n",
       "    <tr>\n",
       "      <th>112</th>\n",
       "      <td>1</td>\n",
       "    </tr>\n",
       "    <tr>\n",
       "      <th>80</th>\n",
       "      <td>1</td>\n",
       "    </tr>\n",
       "  </tbody>\n",
       "</table>\n",
       "</div>"
      ],
      "text/plain": [
       "              count\n",
       "PULocationID       \n",
       "97              110\n",
       "65               58\n",
       "33               17\n",
       "25               12\n",
       "66               11\n",
       "181               8\n",
       "52                5\n",
       "255               5\n",
       "49                4\n",
       "17                3\n",
       "37                2\n",
       "225               2\n",
       "62                2\n",
       "256               2\n",
       "36                2\n",
       "61                1\n",
       "85                1\n",
       "195               1\n",
       "190               1\n",
       "89                1\n",
       "112               1\n",
       "80                1"
      ]
     },
     "execution_count": 192,
     "metadata": {},
     "output_type": "execute_result"
    }
   ],
   "source": [
    "#Dicari lokasi Pick Up terbanyak menuju Lokasi ID 189\n",
    "Tabel3 = ID189['PULocationID'].value_counts()\n",
    "pd.DataFrame(Tabel3)"
   ]
  },
  {
   "cell_type": "code",
   "execution_count": 201,
   "id": "9cbebd1f",
   "metadata": {},
   "outputs": [],
   "source": [
    "PULoc4 = Kemacetan4.groupby(['DOLocationID','PULocationID'])[['trip_distance','durasi/mil','PULocationID']].median()\n",
    "PULoc4 = PULoc4[(PULoc4['PULocationID']==97)|(PULoc4['PULocationID']==65)|(PULoc4['PULocationID']==66)]"
   ]
  },
  {
   "cell_type": "code",
   "execution_count": 194,
   "id": "6aba86c1",
   "metadata": {},
   "outputs": [],
   "source": [
    "ID97 = NewYork3[NewYork3['DOLocationID']==97][['DOLocationID','PULocationID','trip_distance','duration','lpep_pickup_datetime']]"
   ]
  },
  {
   "cell_type": "code",
   "execution_count": 195,
   "id": "59c79132",
   "metadata": {},
   "outputs": [],
   "source": [
    "ID97['durasi/mil'] = ID97['duration'] / ID97['trip_distance']"
   ]
  },
  {
   "cell_type": "code",
   "execution_count": 196,
   "id": "b62eedeb",
   "metadata": {},
   "outputs": [
    {
     "data": {
      "text/html": [
       "<div>\n",
       "<style scoped>\n",
       "    .dataframe tbody tr th:only-of-type {\n",
       "        vertical-align: middle;\n",
       "    }\n",
       "\n",
       "    .dataframe tbody tr th {\n",
       "        vertical-align: top;\n",
       "    }\n",
       "\n",
       "    .dataframe thead th {\n",
       "        text-align: right;\n",
       "    }\n",
       "</style>\n",
       "<table border=\"1\" class=\"dataframe\">\n",
       "  <thead>\n",
       "    <tr style=\"text-align: right;\">\n",
       "      <th></th>\n",
       "      <th>DOLocationID</th>\n",
       "      <th>PULocationID</th>\n",
       "      <th>trip_distance</th>\n",
       "      <th>duration</th>\n",
       "      <th>lpep_pickup_datetime</th>\n",
       "      <th>durasi/mil</th>\n",
       "    </tr>\n",
       "  </thead>\n",
       "  <tbody>\n",
       "    <tr>\n",
       "      <th>36501</th>\n",
       "      <td>97</td>\n",
       "      <td>181</td>\n",
       "      <td>1.53</td>\n",
       "      <td>23.08</td>\n",
       "      <td>2023-01-19 10:16:58</td>\n",
       "      <td>15.084967</td>\n",
       "    </tr>\n",
       "    <tr>\n",
       "      <th>47681</th>\n",
       "      <td>97</td>\n",
       "      <td>65</td>\n",
       "      <td>0.79</td>\n",
       "      <td>11.80</td>\n",
       "      <td>2023-01-24 15:40:07</td>\n",
       "      <td>14.936709</td>\n",
       "    </tr>\n",
       "    <tr>\n",
       "      <th>7538</th>\n",
       "      <td>97</td>\n",
       "      <td>25</td>\n",
       "      <td>0.70</td>\n",
       "      <td>9.87</td>\n",
       "      <td>2023-01-05 10:32:19</td>\n",
       "      <td>14.100000</td>\n",
       "    </tr>\n",
       "    <tr>\n",
       "      <th>53474</th>\n",
       "      <td>97</td>\n",
       "      <td>65</td>\n",
       "      <td>0.65</td>\n",
       "      <td>9.00</td>\n",
       "      <td>2023-01-26 20:09:08</td>\n",
       "      <td>13.846154</td>\n",
       "    </tr>\n",
       "    <tr>\n",
       "      <th>53203</th>\n",
       "      <td>97</td>\n",
       "      <td>52</td>\n",
       "      <td>1.40</td>\n",
       "      <td>19.30</td>\n",
       "      <td>2023-01-26 18:06:02</td>\n",
       "      <td>13.785714</td>\n",
       "    </tr>\n",
       "    <tr>\n",
       "      <th>45711</th>\n",
       "      <td>97</td>\n",
       "      <td>65</td>\n",
       "      <td>0.69</td>\n",
       "      <td>9.42</td>\n",
       "      <td>2023-01-23 16:50:29</td>\n",
       "      <td>13.652174</td>\n",
       "    </tr>\n",
       "    <tr>\n",
       "      <th>37132</th>\n",
       "      <td>97</td>\n",
       "      <td>65</td>\n",
       "      <td>1.08</td>\n",
       "      <td>14.68</td>\n",
       "      <td>2023-01-19 15:43:28</td>\n",
       "      <td>13.592593</td>\n",
       "    </tr>\n",
       "    <tr>\n",
       "      <th>52989</th>\n",
       "      <td>97</td>\n",
       "      <td>65</td>\n",
       "      <td>1.00</td>\n",
       "      <td>13.05</td>\n",
       "      <td>2023-01-26 17:09:15</td>\n",
       "      <td>13.050000</td>\n",
       "    </tr>\n",
       "    <tr>\n",
       "      <th>60926</th>\n",
       "      <td>97</td>\n",
       "      <td>65</td>\n",
       "      <td>0.97</td>\n",
       "      <td>12.63</td>\n",
       "      <td>2023-01-30 16:21:27</td>\n",
       "      <td>13.020619</td>\n",
       "    </tr>\n",
       "    <tr>\n",
       "      <th>22983</th>\n",
       "      <td>97</td>\n",
       "      <td>65</td>\n",
       "      <td>1.20</td>\n",
       "      <td>14.90</td>\n",
       "      <td>2023-01-12 15:57:39</td>\n",
       "      <td>12.416667</td>\n",
       "    </tr>\n",
       "  </tbody>\n",
       "</table>\n",
       "</div>"
      ],
      "text/plain": [
       "       DOLocationID  PULocationID  trip_distance  duration  \\\n",
       "36501            97           181           1.53     23.08   \n",
       "47681            97            65           0.79     11.80   \n",
       "7538             97            25           0.70      9.87   \n",
       "53474            97            65           0.65      9.00   \n",
       "53203            97            52           1.40     19.30   \n",
       "45711            97            65           0.69      9.42   \n",
       "37132            97            65           1.08     14.68   \n",
       "52989            97            65           1.00     13.05   \n",
       "60926            97            65           0.97     12.63   \n",
       "22983            97            65           1.20     14.90   \n",
       "\n",
       "      lpep_pickup_datetime  durasi/mil  \n",
       "36501  2023-01-19 10:16:58   15.084967  \n",
       "47681  2023-01-24 15:40:07   14.936709  \n",
       "7538   2023-01-05 10:32:19   14.100000  \n",
       "53474  2023-01-26 20:09:08   13.846154  \n",
       "53203  2023-01-26 18:06:02   13.785714  \n",
       "45711  2023-01-23 16:50:29   13.652174  \n",
       "37132  2023-01-19 15:43:28   13.592593  \n",
       "52989  2023-01-26 17:09:15   13.050000  \n",
       "60926  2023-01-30 16:21:27   13.020619  \n",
       "22983  2023-01-12 15:57:39   12.416667  "
      ]
     },
     "execution_count": 196,
     "metadata": {},
     "output_type": "execute_result"
    }
   ],
   "source": [
    "Kemacetan5 = ID97.sort_values('durasi/mil',ascending = False)\n",
    "Kemacetan5.head(10)"
   ]
  },
  {
   "cell_type": "code",
   "execution_count": 192,
   "id": "54ebde58",
   "metadata": {},
   "outputs": [
    {
     "data": {
      "text/html": [
       "<div>\n",
       "<style scoped>\n",
       "    .dataframe tbody tr th:only-of-type {\n",
       "        vertical-align: middle;\n",
       "    }\n",
       "\n",
       "    .dataframe tbody tr th {\n",
       "        vertical-align: top;\n",
       "    }\n",
       "\n",
       "    .dataframe thead th {\n",
       "        text-align: right;\n",
       "    }\n",
       "</style>\n",
       "<table border=\"1\" class=\"dataframe\">\n",
       "  <thead>\n",
       "    <tr style=\"text-align: right;\">\n",
       "      <th></th>\n",
       "      <th>count</th>\n",
       "    </tr>\n",
       "    <tr>\n",
       "      <th>PULocationID</th>\n",
       "      <th></th>\n",
       "    </tr>\n",
       "  </thead>\n",
       "  <tbody>\n",
       "    <tr>\n",
       "      <th>97</th>\n",
       "      <td>110</td>\n",
       "    </tr>\n",
       "    <tr>\n",
       "      <th>65</th>\n",
       "      <td>58</td>\n",
       "    </tr>\n",
       "    <tr>\n",
       "      <th>33</th>\n",
       "      <td>17</td>\n",
       "    </tr>\n",
       "    <tr>\n",
       "      <th>25</th>\n",
       "      <td>12</td>\n",
       "    </tr>\n",
       "    <tr>\n",
       "      <th>66</th>\n",
       "      <td>11</td>\n",
       "    </tr>\n",
       "    <tr>\n",
       "      <th>181</th>\n",
       "      <td>8</td>\n",
       "    </tr>\n",
       "    <tr>\n",
       "      <th>52</th>\n",
       "      <td>5</td>\n",
       "    </tr>\n",
       "    <tr>\n",
       "      <th>255</th>\n",
       "      <td>5</td>\n",
       "    </tr>\n",
       "    <tr>\n",
       "      <th>49</th>\n",
       "      <td>4</td>\n",
       "    </tr>\n",
       "    <tr>\n",
       "      <th>17</th>\n",
       "      <td>3</td>\n",
       "    </tr>\n",
       "    <tr>\n",
       "      <th>37</th>\n",
       "      <td>2</td>\n",
       "    </tr>\n",
       "    <tr>\n",
       "      <th>225</th>\n",
       "      <td>2</td>\n",
       "    </tr>\n",
       "    <tr>\n",
       "      <th>62</th>\n",
       "      <td>2</td>\n",
       "    </tr>\n",
       "    <tr>\n",
       "      <th>256</th>\n",
       "      <td>2</td>\n",
       "    </tr>\n",
       "    <tr>\n",
       "      <th>36</th>\n",
       "      <td>2</td>\n",
       "    </tr>\n",
       "    <tr>\n",
       "      <th>61</th>\n",
       "      <td>1</td>\n",
       "    </tr>\n",
       "    <tr>\n",
       "      <th>85</th>\n",
       "      <td>1</td>\n",
       "    </tr>\n",
       "    <tr>\n",
       "      <th>195</th>\n",
       "      <td>1</td>\n",
       "    </tr>\n",
       "    <tr>\n",
       "      <th>190</th>\n",
       "      <td>1</td>\n",
       "    </tr>\n",
       "    <tr>\n",
       "      <th>89</th>\n",
       "      <td>1</td>\n",
       "    </tr>\n",
       "    <tr>\n",
       "      <th>112</th>\n",
       "      <td>1</td>\n",
       "    </tr>\n",
       "    <tr>\n",
       "      <th>80</th>\n",
       "      <td>1</td>\n",
       "    </tr>\n",
       "  </tbody>\n",
       "</table>\n",
       "</div>"
      ],
      "text/plain": [
       "              count\n",
       "PULocationID       \n",
       "97              110\n",
       "65               58\n",
       "33               17\n",
       "25               12\n",
       "66               11\n",
       "181               8\n",
       "52                5\n",
       "255               5\n",
       "49                4\n",
       "17                3\n",
       "37                2\n",
       "225               2\n",
       "62                2\n",
       "256               2\n",
       "36                2\n",
       "61                1\n",
       "85                1\n",
       "195               1\n",
       "190               1\n",
       "89                1\n",
       "112               1\n",
       "80                1"
      ]
     },
     "execution_count": 192,
     "metadata": {},
     "output_type": "execute_result"
    }
   ],
   "source": [
    "#Dicari lokasi Pick Up terbanyak menuju Lokasi ID 97\n",
    "Tabel4 = ID189['PULocationID'].value_counts()\n",
    "pd.DataFrame(Tabel3)"
   ]
  },
  {
   "cell_type": "code",
   "execution_count": 202,
   "id": "5ea56b70",
   "metadata": {},
   "outputs": [],
   "source": [
    "PULoc5 = Kemacetan5.groupby(['DOLocationID','PULocationID'])[['trip_distance','durasi/mil','PULocationID']].median()\n",
    "PULoc5 = PULoc5[(PULoc5['PULocationID']==65)|(PULoc5['PULocationID']==33)|(PULoc5['PULocationID']==66)]"
   ]
  },
  {
   "cell_type": "code",
   "execution_count": 276,
   "id": "0c0f07a7",
   "metadata": {},
   "outputs": [],
   "source": [
    "NewYork3.to_csv('NYC_Trip_Record.csv', index=False)"
   ]
  },
  {
   "cell_type": "code",
   "execution_count": 203,
   "id": "3938bb47",
   "metadata": {},
   "outputs": [
    {
     "data": {
      "text/html": [
       "<div>\n",
       "<style scoped>\n",
       "    .dataframe tbody tr th:only-of-type {\n",
       "        vertical-align: middle;\n",
       "    }\n",
       "\n",
       "    .dataframe tbody tr th {\n",
       "        vertical-align: top;\n",
       "    }\n",
       "\n",
       "    .dataframe thead th {\n",
       "        text-align: right;\n",
       "    }\n",
       "</style>\n",
       "<table border=\"1\" class=\"dataframe\">\n",
       "  <thead>\n",
       "    <tr style=\"text-align: right;\">\n",
       "      <th></th>\n",
       "      <th></th>\n",
       "      <th>trip_distance</th>\n",
       "      <th>durasi/mil</th>\n",
       "      <th>PULocationID</th>\n",
       "    </tr>\n",
       "    <tr>\n",
       "      <th>DOLocationID</th>\n",
       "      <th>PULocationID</th>\n",
       "      <th></th>\n",
       "      <th></th>\n",
       "      <th></th>\n",
       "    </tr>\n",
       "  </thead>\n",
       "  <tbody>\n",
       "    <tr>\n",
       "      <th rowspan=\"3\" valign=\"top\">65</th>\n",
       "      <th>33</th>\n",
       "      <td>0.930</td>\n",
       "      <td>8.890655</td>\n",
       "      <td>33.0</td>\n",
       "    </tr>\n",
       "    <tr>\n",
       "      <th>66</th>\n",
       "      <td>1.070</td>\n",
       "      <td>8.026316</td>\n",
       "      <td>66.0</td>\n",
       "    </tr>\n",
       "    <tr>\n",
       "      <th>97</th>\n",
       "      <td>0.970</td>\n",
       "      <td>9.058252</td>\n",
       "      <td>97.0</td>\n",
       "    </tr>\n",
       "    <tr>\n",
       "      <th rowspan=\"3\" valign=\"top\">33</th>\n",
       "      <th>65</th>\n",
       "      <td>1.180</td>\n",
       "      <td>8.418301</td>\n",
       "      <td>65.0</td>\n",
       "    </tr>\n",
       "    <tr>\n",
       "      <th>66</th>\n",
       "      <td>1.005</td>\n",
       "      <td>6.852273</td>\n",
       "      <td>66.0</td>\n",
       "    </tr>\n",
       "    <tr>\n",
       "      <th>97</th>\n",
       "      <td>1.295</td>\n",
       "      <td>9.631858</td>\n",
       "      <td>97.0</td>\n",
       "    </tr>\n",
       "    <tr>\n",
       "      <th rowspan=\"3\" valign=\"top\">189</th>\n",
       "      <th>65</th>\n",
       "      <td>1.580</td>\n",
       "      <td>8.129846</td>\n",
       "      <td>65.0</td>\n",
       "    </tr>\n",
       "    <tr>\n",
       "      <th>66</th>\n",
       "      <td>3.050</td>\n",
       "      <td>7.081967</td>\n",
       "      <td>66.0</td>\n",
       "    </tr>\n",
       "    <tr>\n",
       "      <th>97</th>\n",
       "      <td>1.455</td>\n",
       "      <td>7.965054</td>\n",
       "      <td>97.0</td>\n",
       "    </tr>\n",
       "    <tr>\n",
       "      <th rowspan=\"3\" valign=\"top\">97</th>\n",
       "      <th>33</th>\n",
       "      <td>1.435</td>\n",
       "      <td>7.941459</td>\n",
       "      <td>33.0</td>\n",
       "    </tr>\n",
       "    <tr>\n",
       "      <th>65</th>\n",
       "      <td>1.190</td>\n",
       "      <td>7.954198</td>\n",
       "      <td>65.0</td>\n",
       "    </tr>\n",
       "    <tr>\n",
       "      <th>66</th>\n",
       "      <td>1.790</td>\n",
       "      <td>7.065000</td>\n",
       "      <td>66.0</td>\n",
       "    </tr>\n",
       "  </tbody>\n",
       "</table>\n",
       "</div>"
      ],
      "text/plain": [
       "                           trip_distance  durasi/mil  PULocationID\n",
       "DOLocationID PULocationID                                         \n",
       "65           33                    0.930    8.890655          33.0\n",
       "             66                    1.070    8.026316          66.0\n",
       "             97                    0.970    9.058252          97.0\n",
       "33           65                    1.180    8.418301          65.0\n",
       "             66                    1.005    6.852273          66.0\n",
       "             97                    1.295    9.631858          97.0\n",
       "189          65                    1.580    8.129846          65.0\n",
       "             66                    3.050    7.081967          66.0\n",
       "             97                    1.455    7.965054          97.0\n",
       "97           33                    1.435    7.941459          33.0\n",
       "             65                    1.190    7.954198          65.0\n",
       "             66                    1.790    7.065000          66.0"
      ]
     },
     "execution_count": 203,
     "metadata": {},
     "output_type": "execute_result"
    }
   ],
   "source": [
    "pd.concat([PULoc2,PULoc3,PULoc4,PULoc5])"
   ]
  },
  {
   "cell_type": "markdown",
   "id": "6a15c968",
   "metadata": {},
   "source": [
    "## **Test Hipotesis** ##\n",
    "Test hipotesis ini dilakukan untuk mengetahui apakah ada perbedaan nilai tip antar tipe pembayaran juga untuk menarik kesimpulan apakah ada perbedaan durasi antar tipe trip penumpang."
   ]
  },
  {
   "cell_type": "code",
   "execution_count": 205,
   "id": "fb0143f6",
   "metadata": {},
   "outputs": [
    {
     "name": "stdout",
     "output_type": "stream",
     "text": [
      "7.512412832070787e-44 , terdapat perbedaan tips dari ketiga jenis tipe pembayaran\n"
     ]
    }
   ],
   "source": [
    "from scipy.stats import kruskal\n",
    "stat_kru, pval_kru = kruskal(NewYork3[NewYork3['payment_type']=='Credit card']['tip_amount'],\n",
    "                            NewYork3[NewYork3['payment_type']=='No charge']['tip_amount'],\n",
    "                            NewYork3[NewYork3['payment_type']=='Dispute']['tip_amount'])\n",
    "if pval_kru < 0.05:\n",
    "    print(f'{pval_kru} , terdapat perbedaan tips dari ketiga jenis tipe pembayaran')\n",
    "else:\n",
    "    print(f'{pval_kru} , tidak terdapat perbedaan tips dari ketiga jenis pembayaran')"
   ]
  },
  {
   "cell_type": "code",
   "execution_count": 207,
   "id": "98246677",
   "metadata": {},
   "outputs": [
    {
     "name": "stdout",
     "output_type": "stream",
     "text": [
      "karena probabilty value dari durasi 0.06456170320323551 maka ada perbedaan durasi antara penumpang\n"
     ]
    }
   ],
   "source": [
    "from scipy.stats import mannwhitneyu\n",
    "stat_mann, pval_mann = mannwhitneyu(NewYork3[NewYork3['trip_type'] == 'Street-hail']['duration'],\n",
    "                                    NewYork3[NewYork3['trip_type'] == 'Dispatch']['duration'],\n",
    "                                   alternative='two-sided')\n",
    "if pval_mann < 0.05:\n",
    "    print(f'karena probabilty value dari durasi {pval_mann} maka tidak ada perbedaan durasi antara penumpang')\n",
    "else:\n",
    "    print(f'karena probabilty value dari durasi {pval_mann} maka ada perbedaan durasi antara penumpang')"
   ]
  }
 ],
 "metadata": {
  "kernelspec": {
   "display_name": "Python 3 (ipykernel)",
   "language": "python",
   "name": "python3"
  },
  "language_info": {
   "codemirror_mode": {
    "name": "ipython",
    "version": 3
   },
   "file_extension": ".py",
   "mimetype": "text/x-python",
   "name": "python",
   "nbconvert_exporter": "python",
   "pygments_lexer": "ipython3",
   "version": "3.11.5"
  }
 },
 "nbformat": 4,
 "nbformat_minor": 5
}
